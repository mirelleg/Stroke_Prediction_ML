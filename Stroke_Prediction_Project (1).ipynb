{
  "nbformat": 4,
  "nbformat_minor": 0,
  "metadata": {
    "colab": {
      "provenance": [],
      "toc_visible": true
    },
    "kernelspec": {
      "name": "python3",
      "display_name": "Python 3"
    },
    "language_info": {
      "name": "python"
    }
  },
  "cells": [
    {
      "cell_type": "markdown",
      "source": [
        "# ML Prediction - Stroke Prediction"
      ],
      "metadata": {
        "id": "U4oOm5NGuZyT"
      }
    },
    {
      "cell_type": "code",
      "source": [
        "import warnings\n",
        "warnings.filterwarnings('ignore')"
      ],
      "metadata": {
        "id": "oZ7yAJ1LnzBM"
      },
      "execution_count": null,
      "outputs": []
    },
    {
      "cell_type": "code",
      "source": [
        "import pandas as pd\n",
        "\n",
        "file_path = '/content/drive/MyDrive/Stroke_Prediction_Project/healthcare-dataset-stroke-data.csv'"
      ],
      "metadata": {
        "id": "AAZE4BpEtxE2"
      },
      "execution_count": null,
      "outputs": []
    },
    {
      "cell_type": "code",
      "source": [
        "df = pd.read_csv(file_path)\n",
        "df.head()"
      ],
      "metadata": {
        "colab": {
          "base_uri": "https://localhost:8080/",
          "height": 261
        },
        "id": "LcAqK0YpuX6f",
        "outputId": "b4a83a44-3b1d-4c28-ea97-eebdbd0199f9"
      },
      "execution_count": null,
      "outputs": [
        {
          "output_type": "execute_result",
          "data": {
            "text/plain": [
              "      id  gender   age  hypertension  heart_disease ever_married  \\\n",
              "0   9046    Male  67.0             0              1          Yes   \n",
              "1  51676  Female  61.0             0              0          Yes   \n",
              "2  31112    Male  80.0             0              1          Yes   \n",
              "3  60182  Female  49.0             0              0          Yes   \n",
              "4   1665  Female  79.0             1              0          Yes   \n",
              "\n",
              "       work_type Residence_type  avg_glucose_level   bmi   smoking_status  \\\n",
              "0        Private          Urban             228.69  36.6  formerly smoked   \n",
              "1  Self-employed          Rural             202.21   NaN     never smoked   \n",
              "2        Private          Rural             105.92  32.5     never smoked   \n",
              "3        Private          Urban             171.23  34.4           smokes   \n",
              "4  Self-employed          Rural             174.12  24.0     never smoked   \n",
              "\n",
              "   stroke  \n",
              "0       1  \n",
              "1       1  \n",
              "2       1  \n",
              "3       1  \n",
              "4       1  "
            ],
            "text/html": [
              "\n",
              "  <div id=\"df-86696004-28b9-4eb4-a697-2c4bf641dd4b\" class=\"colab-df-container\">\n",
              "    <div>\n",
              "<style scoped>\n",
              "    .dataframe tbody tr th:only-of-type {\n",
              "        vertical-align: middle;\n",
              "    }\n",
              "\n",
              "    .dataframe tbody tr th {\n",
              "        vertical-align: top;\n",
              "    }\n",
              "\n",
              "    .dataframe thead th {\n",
              "        text-align: right;\n",
              "    }\n",
              "</style>\n",
              "<table border=\"1\" class=\"dataframe\">\n",
              "  <thead>\n",
              "    <tr style=\"text-align: right;\">\n",
              "      <th></th>\n",
              "      <th>id</th>\n",
              "      <th>gender</th>\n",
              "      <th>age</th>\n",
              "      <th>hypertension</th>\n",
              "      <th>heart_disease</th>\n",
              "      <th>ever_married</th>\n",
              "      <th>work_type</th>\n",
              "      <th>Residence_type</th>\n",
              "      <th>avg_glucose_level</th>\n",
              "      <th>bmi</th>\n",
              "      <th>smoking_status</th>\n",
              "      <th>stroke</th>\n",
              "    </tr>\n",
              "  </thead>\n",
              "  <tbody>\n",
              "    <tr>\n",
              "      <th>0</th>\n",
              "      <td>9046</td>\n",
              "      <td>Male</td>\n",
              "      <td>67.0</td>\n",
              "      <td>0</td>\n",
              "      <td>1</td>\n",
              "      <td>Yes</td>\n",
              "      <td>Private</td>\n",
              "      <td>Urban</td>\n",
              "      <td>228.69</td>\n",
              "      <td>36.6</td>\n",
              "      <td>formerly smoked</td>\n",
              "      <td>1</td>\n",
              "    </tr>\n",
              "    <tr>\n",
              "      <th>1</th>\n",
              "      <td>51676</td>\n",
              "      <td>Female</td>\n",
              "      <td>61.0</td>\n",
              "      <td>0</td>\n",
              "      <td>0</td>\n",
              "      <td>Yes</td>\n",
              "      <td>Self-employed</td>\n",
              "      <td>Rural</td>\n",
              "      <td>202.21</td>\n",
              "      <td>NaN</td>\n",
              "      <td>never smoked</td>\n",
              "      <td>1</td>\n",
              "    </tr>\n",
              "    <tr>\n",
              "      <th>2</th>\n",
              "      <td>31112</td>\n",
              "      <td>Male</td>\n",
              "      <td>80.0</td>\n",
              "      <td>0</td>\n",
              "      <td>1</td>\n",
              "      <td>Yes</td>\n",
              "      <td>Private</td>\n",
              "      <td>Rural</td>\n",
              "      <td>105.92</td>\n",
              "      <td>32.5</td>\n",
              "      <td>never smoked</td>\n",
              "      <td>1</td>\n",
              "    </tr>\n",
              "    <tr>\n",
              "      <th>3</th>\n",
              "      <td>60182</td>\n",
              "      <td>Female</td>\n",
              "      <td>49.0</td>\n",
              "      <td>0</td>\n",
              "      <td>0</td>\n",
              "      <td>Yes</td>\n",
              "      <td>Private</td>\n",
              "      <td>Urban</td>\n",
              "      <td>171.23</td>\n",
              "      <td>34.4</td>\n",
              "      <td>smokes</td>\n",
              "      <td>1</td>\n",
              "    </tr>\n",
              "    <tr>\n",
              "      <th>4</th>\n",
              "      <td>1665</td>\n",
              "      <td>Female</td>\n",
              "      <td>79.0</td>\n",
              "      <td>1</td>\n",
              "      <td>0</td>\n",
              "      <td>Yes</td>\n",
              "      <td>Self-employed</td>\n",
              "      <td>Rural</td>\n",
              "      <td>174.12</td>\n",
              "      <td>24.0</td>\n",
              "      <td>never smoked</td>\n",
              "      <td>1</td>\n",
              "    </tr>\n",
              "  </tbody>\n",
              "</table>\n",
              "</div>\n",
              "    <div class=\"colab-df-buttons\">\n",
              "\n",
              "  <div class=\"colab-df-container\">\n",
              "    <button class=\"colab-df-convert\" onclick=\"convertToInteractive('df-86696004-28b9-4eb4-a697-2c4bf641dd4b')\"\n",
              "            title=\"Convert this dataframe to an interactive table.\"\n",
              "            style=\"display:none;\">\n",
              "\n",
              "  <svg xmlns=\"http://www.w3.org/2000/svg\" height=\"24px\" viewBox=\"0 -960 960 960\">\n",
              "    <path d=\"M120-120v-720h720v720H120Zm60-500h600v-160H180v160Zm220 220h160v-160H400v160Zm0 220h160v-160H400v160ZM180-400h160v-160H180v160Zm440 0h160v-160H620v160ZM180-180h160v-160H180v160Zm440 0h160v-160H620v160Z\"/>\n",
              "  </svg>\n",
              "    </button>\n",
              "\n",
              "  <style>\n",
              "    .colab-df-container {\n",
              "      display:flex;\n",
              "      gap: 12px;\n",
              "    }\n",
              "\n",
              "    .colab-df-convert {\n",
              "      background-color: #E8F0FE;\n",
              "      border: none;\n",
              "      border-radius: 50%;\n",
              "      cursor: pointer;\n",
              "      display: none;\n",
              "      fill: #1967D2;\n",
              "      height: 32px;\n",
              "      padding: 0 0 0 0;\n",
              "      width: 32px;\n",
              "    }\n",
              "\n",
              "    .colab-df-convert:hover {\n",
              "      background-color: #E2EBFA;\n",
              "      box-shadow: 0px 1px 2px rgba(60, 64, 67, 0.3), 0px 1px 3px 1px rgba(60, 64, 67, 0.15);\n",
              "      fill: #174EA6;\n",
              "    }\n",
              "\n",
              "    .colab-df-buttons div {\n",
              "      margin-bottom: 4px;\n",
              "    }\n",
              "\n",
              "    [theme=dark] .colab-df-convert {\n",
              "      background-color: #3B4455;\n",
              "      fill: #D2E3FC;\n",
              "    }\n",
              "\n",
              "    [theme=dark] .colab-df-convert:hover {\n",
              "      background-color: #434B5C;\n",
              "      box-shadow: 0px 1px 3px 1px rgba(0, 0, 0, 0.15);\n",
              "      filter: drop-shadow(0px 1px 2px rgba(0, 0, 0, 0.3));\n",
              "      fill: #FFFFFF;\n",
              "    }\n",
              "  </style>\n",
              "\n",
              "    <script>\n",
              "      const buttonEl =\n",
              "        document.querySelector('#df-86696004-28b9-4eb4-a697-2c4bf641dd4b button.colab-df-convert');\n",
              "      buttonEl.style.display =\n",
              "        google.colab.kernel.accessAllowed ? 'block' : 'none';\n",
              "\n",
              "      async function convertToInteractive(key) {\n",
              "        const element = document.querySelector('#df-86696004-28b9-4eb4-a697-2c4bf641dd4b');\n",
              "        const dataTable =\n",
              "          await google.colab.kernel.invokeFunction('convertToInteractive',\n",
              "                                                    [key], {});\n",
              "        if (!dataTable) return;\n",
              "\n",
              "        const docLinkHtml = 'Like what you see? Visit the ' +\n",
              "          '<a target=\"_blank\" href=https://colab.research.google.com/notebooks/data_table.ipynb>data table notebook</a>'\n",
              "          + ' to learn more about interactive tables.';\n",
              "        element.innerHTML = '';\n",
              "        dataTable['output_type'] = 'display_data';\n",
              "        await google.colab.output.renderOutput(dataTable, element);\n",
              "        const docLink = document.createElement('div');\n",
              "        docLink.innerHTML = docLinkHtml;\n",
              "        element.appendChild(docLink);\n",
              "      }\n",
              "    </script>\n",
              "  </div>\n",
              "\n",
              "\n",
              "<div id=\"df-5a1f7b47-ef6e-4905-b60b-20f827c9eee7\">\n",
              "  <button class=\"colab-df-quickchart\" onclick=\"quickchart('df-5a1f7b47-ef6e-4905-b60b-20f827c9eee7')\"\n",
              "            title=\"Suggest charts\"\n",
              "            style=\"display:none;\">\n",
              "\n",
              "<svg xmlns=\"http://www.w3.org/2000/svg\" height=\"24px\"viewBox=\"0 0 24 24\"\n",
              "     width=\"24px\">\n",
              "    <g>\n",
              "        <path d=\"M19 3H5c-1.1 0-2 .9-2 2v14c0 1.1.9 2 2 2h14c1.1 0 2-.9 2-2V5c0-1.1-.9-2-2-2zM9 17H7v-7h2v7zm4 0h-2V7h2v10zm4 0h-2v-4h2v4z\"/>\n",
              "    </g>\n",
              "</svg>\n",
              "  </button>\n",
              "\n",
              "<style>\n",
              "  .colab-df-quickchart {\n",
              "      --bg-color: #E8F0FE;\n",
              "      --fill-color: #1967D2;\n",
              "      --hover-bg-color: #E2EBFA;\n",
              "      --hover-fill-color: #174EA6;\n",
              "      --disabled-fill-color: #AAA;\n",
              "      --disabled-bg-color: #DDD;\n",
              "  }\n",
              "\n",
              "  [theme=dark] .colab-df-quickchart {\n",
              "      --bg-color: #3B4455;\n",
              "      --fill-color: #D2E3FC;\n",
              "      --hover-bg-color: #434B5C;\n",
              "      --hover-fill-color: #FFFFFF;\n",
              "      --disabled-bg-color: #3B4455;\n",
              "      --disabled-fill-color: #666;\n",
              "  }\n",
              "\n",
              "  .colab-df-quickchart {\n",
              "    background-color: var(--bg-color);\n",
              "    border: none;\n",
              "    border-radius: 50%;\n",
              "    cursor: pointer;\n",
              "    display: none;\n",
              "    fill: var(--fill-color);\n",
              "    height: 32px;\n",
              "    padding: 0;\n",
              "    width: 32px;\n",
              "  }\n",
              "\n",
              "  .colab-df-quickchart:hover {\n",
              "    background-color: var(--hover-bg-color);\n",
              "    box-shadow: 0 1px 2px rgba(60, 64, 67, 0.3), 0 1px 3px 1px rgba(60, 64, 67, 0.15);\n",
              "    fill: var(--button-hover-fill-color);\n",
              "  }\n",
              "\n",
              "  .colab-df-quickchart-complete:disabled,\n",
              "  .colab-df-quickchart-complete:disabled:hover {\n",
              "    background-color: var(--disabled-bg-color);\n",
              "    fill: var(--disabled-fill-color);\n",
              "    box-shadow: none;\n",
              "  }\n",
              "\n",
              "  .colab-df-spinner {\n",
              "    border: 2px solid var(--fill-color);\n",
              "    border-color: transparent;\n",
              "    border-bottom-color: var(--fill-color);\n",
              "    animation:\n",
              "      spin 1s steps(1) infinite;\n",
              "  }\n",
              "\n",
              "  @keyframes spin {\n",
              "    0% {\n",
              "      border-color: transparent;\n",
              "      border-bottom-color: var(--fill-color);\n",
              "      border-left-color: var(--fill-color);\n",
              "    }\n",
              "    20% {\n",
              "      border-color: transparent;\n",
              "      border-left-color: var(--fill-color);\n",
              "      border-top-color: var(--fill-color);\n",
              "    }\n",
              "    30% {\n",
              "      border-color: transparent;\n",
              "      border-left-color: var(--fill-color);\n",
              "      border-top-color: var(--fill-color);\n",
              "      border-right-color: var(--fill-color);\n",
              "    }\n",
              "    40% {\n",
              "      border-color: transparent;\n",
              "      border-right-color: var(--fill-color);\n",
              "      border-top-color: var(--fill-color);\n",
              "    }\n",
              "    60% {\n",
              "      border-color: transparent;\n",
              "      border-right-color: var(--fill-color);\n",
              "    }\n",
              "    80% {\n",
              "      border-color: transparent;\n",
              "      border-right-color: var(--fill-color);\n",
              "      border-bottom-color: var(--fill-color);\n",
              "    }\n",
              "    90% {\n",
              "      border-color: transparent;\n",
              "      border-bottom-color: var(--fill-color);\n",
              "    }\n",
              "  }\n",
              "</style>\n",
              "\n",
              "  <script>\n",
              "    async function quickchart(key) {\n",
              "      const quickchartButtonEl =\n",
              "        document.querySelector('#' + key + ' button');\n",
              "      quickchartButtonEl.disabled = true;  // To prevent multiple clicks.\n",
              "      quickchartButtonEl.classList.add('colab-df-spinner');\n",
              "      try {\n",
              "        const charts = await google.colab.kernel.invokeFunction(\n",
              "            'suggestCharts', [key], {});\n",
              "      } catch (error) {\n",
              "        console.error('Error during call to suggestCharts:', error);\n",
              "      }\n",
              "      quickchartButtonEl.classList.remove('colab-df-spinner');\n",
              "      quickchartButtonEl.classList.add('colab-df-quickchart-complete');\n",
              "    }\n",
              "    (() => {\n",
              "      let quickchartButtonEl =\n",
              "        document.querySelector('#df-5a1f7b47-ef6e-4905-b60b-20f827c9eee7 button');\n",
              "      quickchartButtonEl.style.display =\n",
              "        google.colab.kernel.accessAllowed ? 'block' : 'none';\n",
              "    })();\n",
              "  </script>\n",
              "</div>\n",
              "\n",
              "    </div>\n",
              "  </div>\n"
            ],
            "application/vnd.google.colaboratory.intrinsic+json": {
              "type": "dataframe",
              "variable_name": "df",
              "summary": "{\n  \"name\": \"df\",\n  \"rows\": 5110,\n  \"fields\": [\n    {\n      \"column\": \"id\",\n      \"properties\": {\n        \"dtype\": \"number\",\n        \"std\": 21161,\n        \"min\": 67,\n        \"max\": 72940,\n        \"num_unique_values\": 5110,\n        \"samples\": [\n          40041,\n          55244,\n          70992\n        ],\n        \"semantic_type\": \"\",\n        \"description\": \"\"\n      }\n    },\n    {\n      \"column\": \"gender\",\n      \"properties\": {\n        \"dtype\": \"category\",\n        \"num_unique_values\": 3,\n        \"samples\": [\n          \"Male\",\n          \"Female\",\n          \"Other\"\n        ],\n        \"semantic_type\": \"\",\n        \"description\": \"\"\n      }\n    },\n    {\n      \"column\": \"age\",\n      \"properties\": {\n        \"dtype\": \"number\",\n        \"std\": 22.61264672311352,\n        \"min\": 0.08,\n        \"max\": 82.0,\n        \"num_unique_values\": 104,\n        \"samples\": [\n          45.0,\n          24.0,\n          33.0\n        ],\n        \"semantic_type\": \"\",\n        \"description\": \"\"\n      }\n    },\n    {\n      \"column\": \"hypertension\",\n      \"properties\": {\n        \"dtype\": \"number\",\n        \"std\": 0,\n        \"min\": 0,\n        \"max\": 1,\n        \"num_unique_values\": 2,\n        \"samples\": [\n          1,\n          0\n        ],\n        \"semantic_type\": \"\",\n        \"description\": \"\"\n      }\n    },\n    {\n      \"column\": \"heart_disease\",\n      \"properties\": {\n        \"dtype\": \"number\",\n        \"std\": 0,\n        \"min\": 0,\n        \"max\": 1,\n        \"num_unique_values\": 2,\n        \"samples\": [\n          0,\n          1\n        ],\n        \"semantic_type\": \"\",\n        \"description\": \"\"\n      }\n    },\n    {\n      \"column\": \"ever_married\",\n      \"properties\": {\n        \"dtype\": \"category\",\n        \"num_unique_values\": 2,\n        \"samples\": [\n          \"No\",\n          \"Yes\"\n        ],\n        \"semantic_type\": \"\",\n        \"description\": \"\"\n      }\n    },\n    {\n      \"column\": \"work_type\",\n      \"properties\": {\n        \"dtype\": \"category\",\n        \"num_unique_values\": 5,\n        \"samples\": [\n          \"Self-employed\",\n          \"Never_worked\"\n        ],\n        \"semantic_type\": \"\",\n        \"description\": \"\"\n      }\n    },\n    {\n      \"column\": \"Residence_type\",\n      \"properties\": {\n        \"dtype\": \"category\",\n        \"num_unique_values\": 2,\n        \"samples\": [\n          \"Rural\",\n          \"Urban\"\n        ],\n        \"semantic_type\": \"\",\n        \"description\": \"\"\n      }\n    },\n    {\n      \"column\": \"avg_glucose_level\",\n      \"properties\": {\n        \"dtype\": \"number\",\n        \"std\": 45.28356015058203,\n        \"min\": 55.12,\n        \"max\": 271.74,\n        \"num_unique_values\": 3979,\n        \"samples\": [\n          178.29,\n          156.69\n        ],\n        \"semantic_type\": \"\",\n        \"description\": \"\"\n      }\n    },\n    {\n      \"column\": \"bmi\",\n      \"properties\": {\n        \"dtype\": \"number\",\n        \"std\": 7.854066729680158,\n        \"min\": 10.3,\n        \"max\": 97.6,\n        \"num_unique_values\": 418,\n        \"samples\": [\n          49.5,\n          18.5\n        ],\n        \"semantic_type\": \"\",\n        \"description\": \"\"\n      }\n    },\n    {\n      \"column\": \"smoking_status\",\n      \"properties\": {\n        \"dtype\": \"category\",\n        \"num_unique_values\": 4,\n        \"samples\": [\n          \"never smoked\",\n          \"Unknown\"\n        ],\n        \"semantic_type\": \"\",\n        \"description\": \"\"\n      }\n    },\n    {\n      \"column\": \"stroke\",\n      \"properties\": {\n        \"dtype\": \"number\",\n        \"std\": 0,\n        \"min\": 0,\n        \"max\": 1,\n        \"num_unique_values\": 2,\n        \"samples\": [\n          0,\n          1\n        ],\n        \"semantic_type\": \"\",\n        \"description\": \"\"\n      }\n    }\n  ]\n}"
            }
          },
          "metadata": {},
          "execution_count": 3
        }
      ]
    },
    {
      "cell_type": "markdown",
      "source": [
        "## Pre-Processed Data Analysis"
      ],
      "metadata": {
        "id": "qvQgMD34u5YK"
      }
    },
    {
      "cell_type": "code",
      "source": [
        "df.describe()"
      ],
      "metadata": {
        "colab": {
          "base_uri": "https://localhost:8080/",
          "height": 300
        },
        "id": "1WWUs75XydK7",
        "outputId": "f8c172b0-7505-4f96-eae7-7eee496c2089"
      },
      "execution_count": null,
      "outputs": [
        {
          "output_type": "execute_result",
          "data": {
            "text/plain": [
              "                 id          age  hypertension  heart_disease  \\\n",
              "count   5110.000000  5110.000000   5110.000000    5110.000000   \n",
              "mean   36517.829354    43.226614      0.097456       0.054012   \n",
              "std    21161.721625    22.612647      0.296607       0.226063   \n",
              "min       67.000000     0.080000      0.000000       0.000000   \n",
              "25%    17741.250000    25.000000      0.000000       0.000000   \n",
              "50%    36932.000000    45.000000      0.000000       0.000000   \n",
              "75%    54682.000000    61.000000      0.000000       0.000000   \n",
              "max    72940.000000    82.000000      1.000000       1.000000   \n",
              "\n",
              "       avg_glucose_level          bmi       stroke  \n",
              "count        5110.000000  4909.000000  5110.000000  \n",
              "mean          106.147677    28.893237     0.048728  \n",
              "std            45.283560     7.854067     0.215320  \n",
              "min            55.120000    10.300000     0.000000  \n",
              "25%            77.245000    23.500000     0.000000  \n",
              "50%            91.885000    28.100000     0.000000  \n",
              "75%           114.090000    33.100000     0.000000  \n",
              "max           271.740000    97.600000     1.000000  "
            ],
            "text/html": [
              "\n",
              "  <div id=\"df-9534351d-e468-46f2-978b-2a4f3666e892\" class=\"colab-df-container\">\n",
              "    <div>\n",
              "<style scoped>\n",
              "    .dataframe tbody tr th:only-of-type {\n",
              "        vertical-align: middle;\n",
              "    }\n",
              "\n",
              "    .dataframe tbody tr th {\n",
              "        vertical-align: top;\n",
              "    }\n",
              "\n",
              "    .dataframe thead th {\n",
              "        text-align: right;\n",
              "    }\n",
              "</style>\n",
              "<table border=\"1\" class=\"dataframe\">\n",
              "  <thead>\n",
              "    <tr style=\"text-align: right;\">\n",
              "      <th></th>\n",
              "      <th>id</th>\n",
              "      <th>age</th>\n",
              "      <th>hypertension</th>\n",
              "      <th>heart_disease</th>\n",
              "      <th>avg_glucose_level</th>\n",
              "      <th>bmi</th>\n",
              "      <th>stroke</th>\n",
              "    </tr>\n",
              "  </thead>\n",
              "  <tbody>\n",
              "    <tr>\n",
              "      <th>count</th>\n",
              "      <td>5110.000000</td>\n",
              "      <td>5110.000000</td>\n",
              "      <td>5110.000000</td>\n",
              "      <td>5110.000000</td>\n",
              "      <td>5110.000000</td>\n",
              "      <td>4909.000000</td>\n",
              "      <td>5110.000000</td>\n",
              "    </tr>\n",
              "    <tr>\n",
              "      <th>mean</th>\n",
              "      <td>36517.829354</td>\n",
              "      <td>43.226614</td>\n",
              "      <td>0.097456</td>\n",
              "      <td>0.054012</td>\n",
              "      <td>106.147677</td>\n",
              "      <td>28.893237</td>\n",
              "      <td>0.048728</td>\n",
              "    </tr>\n",
              "    <tr>\n",
              "      <th>std</th>\n",
              "      <td>21161.721625</td>\n",
              "      <td>22.612647</td>\n",
              "      <td>0.296607</td>\n",
              "      <td>0.226063</td>\n",
              "      <td>45.283560</td>\n",
              "      <td>7.854067</td>\n",
              "      <td>0.215320</td>\n",
              "    </tr>\n",
              "    <tr>\n",
              "      <th>min</th>\n",
              "      <td>67.000000</td>\n",
              "      <td>0.080000</td>\n",
              "      <td>0.000000</td>\n",
              "      <td>0.000000</td>\n",
              "      <td>55.120000</td>\n",
              "      <td>10.300000</td>\n",
              "      <td>0.000000</td>\n",
              "    </tr>\n",
              "    <tr>\n",
              "      <th>25%</th>\n",
              "      <td>17741.250000</td>\n",
              "      <td>25.000000</td>\n",
              "      <td>0.000000</td>\n",
              "      <td>0.000000</td>\n",
              "      <td>77.245000</td>\n",
              "      <td>23.500000</td>\n",
              "      <td>0.000000</td>\n",
              "    </tr>\n",
              "    <tr>\n",
              "      <th>50%</th>\n",
              "      <td>36932.000000</td>\n",
              "      <td>45.000000</td>\n",
              "      <td>0.000000</td>\n",
              "      <td>0.000000</td>\n",
              "      <td>91.885000</td>\n",
              "      <td>28.100000</td>\n",
              "      <td>0.000000</td>\n",
              "    </tr>\n",
              "    <tr>\n",
              "      <th>75%</th>\n",
              "      <td>54682.000000</td>\n",
              "      <td>61.000000</td>\n",
              "      <td>0.000000</td>\n",
              "      <td>0.000000</td>\n",
              "      <td>114.090000</td>\n",
              "      <td>33.100000</td>\n",
              "      <td>0.000000</td>\n",
              "    </tr>\n",
              "    <tr>\n",
              "      <th>max</th>\n",
              "      <td>72940.000000</td>\n",
              "      <td>82.000000</td>\n",
              "      <td>1.000000</td>\n",
              "      <td>1.000000</td>\n",
              "      <td>271.740000</td>\n",
              "      <td>97.600000</td>\n",
              "      <td>1.000000</td>\n",
              "    </tr>\n",
              "  </tbody>\n",
              "</table>\n",
              "</div>\n",
              "    <div class=\"colab-df-buttons\">\n",
              "\n",
              "  <div class=\"colab-df-container\">\n",
              "    <button class=\"colab-df-convert\" onclick=\"convertToInteractive('df-9534351d-e468-46f2-978b-2a4f3666e892')\"\n",
              "            title=\"Convert this dataframe to an interactive table.\"\n",
              "            style=\"display:none;\">\n",
              "\n",
              "  <svg xmlns=\"http://www.w3.org/2000/svg\" height=\"24px\" viewBox=\"0 -960 960 960\">\n",
              "    <path d=\"M120-120v-720h720v720H120Zm60-500h600v-160H180v160Zm220 220h160v-160H400v160Zm0 220h160v-160H400v160ZM180-400h160v-160H180v160Zm440 0h160v-160H620v160ZM180-180h160v-160H180v160Zm440 0h160v-160H620v160Z\"/>\n",
              "  </svg>\n",
              "    </button>\n",
              "\n",
              "  <style>\n",
              "    .colab-df-container {\n",
              "      display:flex;\n",
              "      gap: 12px;\n",
              "    }\n",
              "\n",
              "    .colab-df-convert {\n",
              "      background-color: #E8F0FE;\n",
              "      border: none;\n",
              "      border-radius: 50%;\n",
              "      cursor: pointer;\n",
              "      display: none;\n",
              "      fill: #1967D2;\n",
              "      height: 32px;\n",
              "      padding: 0 0 0 0;\n",
              "      width: 32px;\n",
              "    }\n",
              "\n",
              "    .colab-df-convert:hover {\n",
              "      background-color: #E2EBFA;\n",
              "      box-shadow: 0px 1px 2px rgba(60, 64, 67, 0.3), 0px 1px 3px 1px rgba(60, 64, 67, 0.15);\n",
              "      fill: #174EA6;\n",
              "    }\n",
              "\n",
              "    .colab-df-buttons div {\n",
              "      margin-bottom: 4px;\n",
              "    }\n",
              "\n",
              "    [theme=dark] .colab-df-convert {\n",
              "      background-color: #3B4455;\n",
              "      fill: #D2E3FC;\n",
              "    }\n",
              "\n",
              "    [theme=dark] .colab-df-convert:hover {\n",
              "      background-color: #434B5C;\n",
              "      box-shadow: 0px 1px 3px 1px rgba(0, 0, 0, 0.15);\n",
              "      filter: drop-shadow(0px 1px 2px rgba(0, 0, 0, 0.3));\n",
              "      fill: #FFFFFF;\n",
              "    }\n",
              "  </style>\n",
              "\n",
              "    <script>\n",
              "      const buttonEl =\n",
              "        document.querySelector('#df-9534351d-e468-46f2-978b-2a4f3666e892 button.colab-df-convert');\n",
              "      buttonEl.style.display =\n",
              "        google.colab.kernel.accessAllowed ? 'block' : 'none';\n",
              "\n",
              "      async function convertToInteractive(key) {\n",
              "        const element = document.querySelector('#df-9534351d-e468-46f2-978b-2a4f3666e892');\n",
              "        const dataTable =\n",
              "          await google.colab.kernel.invokeFunction('convertToInteractive',\n",
              "                                                    [key], {});\n",
              "        if (!dataTable) return;\n",
              "\n",
              "        const docLinkHtml = 'Like what you see? Visit the ' +\n",
              "          '<a target=\"_blank\" href=https://colab.research.google.com/notebooks/data_table.ipynb>data table notebook</a>'\n",
              "          + ' to learn more about interactive tables.';\n",
              "        element.innerHTML = '';\n",
              "        dataTable['output_type'] = 'display_data';\n",
              "        await google.colab.output.renderOutput(dataTable, element);\n",
              "        const docLink = document.createElement('div');\n",
              "        docLink.innerHTML = docLinkHtml;\n",
              "        element.appendChild(docLink);\n",
              "      }\n",
              "    </script>\n",
              "  </div>\n",
              "\n",
              "\n",
              "<div id=\"df-b898c9c6-54eb-4c2b-a636-7062b8b91073\">\n",
              "  <button class=\"colab-df-quickchart\" onclick=\"quickchart('df-b898c9c6-54eb-4c2b-a636-7062b8b91073')\"\n",
              "            title=\"Suggest charts\"\n",
              "            style=\"display:none;\">\n",
              "\n",
              "<svg xmlns=\"http://www.w3.org/2000/svg\" height=\"24px\"viewBox=\"0 0 24 24\"\n",
              "     width=\"24px\">\n",
              "    <g>\n",
              "        <path d=\"M19 3H5c-1.1 0-2 .9-2 2v14c0 1.1.9 2 2 2h14c1.1 0 2-.9 2-2V5c0-1.1-.9-2-2-2zM9 17H7v-7h2v7zm4 0h-2V7h2v10zm4 0h-2v-4h2v4z\"/>\n",
              "    </g>\n",
              "</svg>\n",
              "  </button>\n",
              "\n",
              "<style>\n",
              "  .colab-df-quickchart {\n",
              "      --bg-color: #E8F0FE;\n",
              "      --fill-color: #1967D2;\n",
              "      --hover-bg-color: #E2EBFA;\n",
              "      --hover-fill-color: #174EA6;\n",
              "      --disabled-fill-color: #AAA;\n",
              "      --disabled-bg-color: #DDD;\n",
              "  }\n",
              "\n",
              "  [theme=dark] .colab-df-quickchart {\n",
              "      --bg-color: #3B4455;\n",
              "      --fill-color: #D2E3FC;\n",
              "      --hover-bg-color: #434B5C;\n",
              "      --hover-fill-color: #FFFFFF;\n",
              "      --disabled-bg-color: #3B4455;\n",
              "      --disabled-fill-color: #666;\n",
              "  }\n",
              "\n",
              "  .colab-df-quickchart {\n",
              "    background-color: var(--bg-color);\n",
              "    border: none;\n",
              "    border-radius: 50%;\n",
              "    cursor: pointer;\n",
              "    display: none;\n",
              "    fill: var(--fill-color);\n",
              "    height: 32px;\n",
              "    padding: 0;\n",
              "    width: 32px;\n",
              "  }\n",
              "\n",
              "  .colab-df-quickchart:hover {\n",
              "    background-color: var(--hover-bg-color);\n",
              "    box-shadow: 0 1px 2px rgba(60, 64, 67, 0.3), 0 1px 3px 1px rgba(60, 64, 67, 0.15);\n",
              "    fill: var(--button-hover-fill-color);\n",
              "  }\n",
              "\n",
              "  .colab-df-quickchart-complete:disabled,\n",
              "  .colab-df-quickchart-complete:disabled:hover {\n",
              "    background-color: var(--disabled-bg-color);\n",
              "    fill: var(--disabled-fill-color);\n",
              "    box-shadow: none;\n",
              "  }\n",
              "\n",
              "  .colab-df-spinner {\n",
              "    border: 2px solid var(--fill-color);\n",
              "    border-color: transparent;\n",
              "    border-bottom-color: var(--fill-color);\n",
              "    animation:\n",
              "      spin 1s steps(1) infinite;\n",
              "  }\n",
              "\n",
              "  @keyframes spin {\n",
              "    0% {\n",
              "      border-color: transparent;\n",
              "      border-bottom-color: var(--fill-color);\n",
              "      border-left-color: var(--fill-color);\n",
              "    }\n",
              "    20% {\n",
              "      border-color: transparent;\n",
              "      border-left-color: var(--fill-color);\n",
              "      border-top-color: var(--fill-color);\n",
              "    }\n",
              "    30% {\n",
              "      border-color: transparent;\n",
              "      border-left-color: var(--fill-color);\n",
              "      border-top-color: var(--fill-color);\n",
              "      border-right-color: var(--fill-color);\n",
              "    }\n",
              "    40% {\n",
              "      border-color: transparent;\n",
              "      border-right-color: var(--fill-color);\n",
              "      border-top-color: var(--fill-color);\n",
              "    }\n",
              "    60% {\n",
              "      border-color: transparent;\n",
              "      border-right-color: var(--fill-color);\n",
              "    }\n",
              "    80% {\n",
              "      border-color: transparent;\n",
              "      border-right-color: var(--fill-color);\n",
              "      border-bottom-color: var(--fill-color);\n",
              "    }\n",
              "    90% {\n",
              "      border-color: transparent;\n",
              "      border-bottom-color: var(--fill-color);\n",
              "    }\n",
              "  }\n",
              "</style>\n",
              "\n",
              "  <script>\n",
              "    async function quickchart(key) {\n",
              "      const quickchartButtonEl =\n",
              "        document.querySelector('#' + key + ' button');\n",
              "      quickchartButtonEl.disabled = true;  // To prevent multiple clicks.\n",
              "      quickchartButtonEl.classList.add('colab-df-spinner');\n",
              "      try {\n",
              "        const charts = await google.colab.kernel.invokeFunction(\n",
              "            'suggestCharts', [key], {});\n",
              "      } catch (error) {\n",
              "        console.error('Error during call to suggestCharts:', error);\n",
              "      }\n",
              "      quickchartButtonEl.classList.remove('colab-df-spinner');\n",
              "      quickchartButtonEl.classList.add('colab-df-quickchart-complete');\n",
              "    }\n",
              "    (() => {\n",
              "      let quickchartButtonEl =\n",
              "        document.querySelector('#df-b898c9c6-54eb-4c2b-a636-7062b8b91073 button');\n",
              "      quickchartButtonEl.style.display =\n",
              "        google.colab.kernel.accessAllowed ? 'block' : 'none';\n",
              "    })();\n",
              "  </script>\n",
              "</div>\n",
              "\n",
              "    </div>\n",
              "  </div>\n"
            ],
            "application/vnd.google.colaboratory.intrinsic+json": {
              "type": "dataframe",
              "summary": "{\n  \"name\": \"df\",\n  \"rows\": 8,\n  \"fields\": [\n    {\n      \"column\": \"id\",\n      \"properties\": {\n        \"dtype\": \"number\",\n        \"std\": 24739.06835358706,\n        \"min\": 67.0,\n        \"max\": 72940.0,\n        \"num_unique_values\": 8,\n        \"samples\": [\n          36517.82935420744,\n          36932.0,\n          5110.0\n        ],\n        \"semantic_type\": \"\",\n        \"description\": \"\"\n      }\n    },\n    {\n      \"column\": \"age\",\n      \"properties\": {\n        \"dtype\": \"number\",\n        \"std\": 1792.744047061404,\n        \"min\": 0.08,\n        \"max\": 5110.0,\n        \"num_unique_values\": 8,\n        \"samples\": [\n          43.226614481409,\n          45.0,\n          5110.0\n        ],\n        \"semantic_type\": \"\",\n        \"description\": \"\"\n      }\n    },\n    {\n      \"column\": \"hypertension\",\n      \"properties\": {\n        \"dtype\": \"number\",\n        \"std\": 1806.5874475501562,\n        \"min\": 0.0,\n        \"max\": 5110.0,\n        \"num_unique_values\": 5,\n        \"samples\": [\n          0.0974559686888454,\n          1.0,\n          0.29660667423378534\n        ],\n        \"semantic_type\": \"\",\n        \"description\": \"\"\n      }\n    },\n    {\n      \"column\": \"heart_disease\",\n      \"properties\": {\n        \"dtype\": \"number\",\n        \"std\": 1806.593204812832,\n        \"min\": 0.0,\n        \"max\": 5110.0,\n        \"num_unique_values\": 5,\n        \"samples\": [\n          0.05401174168297456,\n          1.0,\n          0.22606298750336476\n        ],\n        \"semantic_type\": \"\",\n        \"description\": \"\"\n      }\n    },\n    {\n      \"column\": \"avg_glucose_level\",\n      \"properties\": {\n        \"dtype\": \"number\",\n        \"std\": 1769.6002138244987,\n        \"min\": 45.28356015058203,\n        \"max\": 5110.0,\n        \"num_unique_values\": 8,\n        \"samples\": [\n          106.1476771037182,\n          91.88499999999999,\n          5110.0\n        ],\n        \"semantic_type\": \"\",\n        \"description\": \"\"\n      }\n    },\n    {\n      \"column\": \"bmi\",\n      \"properties\": {\n        \"dtype\": \"number\",\n        \"std\": 1724.2356567020179,\n        \"min\": 7.854066729680158,\n        \"max\": 4909.0,\n        \"num_unique_values\": 8,\n        \"samples\": [\n          28.893236911794666,\n          28.1,\n          4909.0\n        ],\n        \"semantic_type\": \"\",\n        \"description\": \"\"\n      }\n    },\n    {\n      \"column\": \"stroke\",\n      \"properties\": {\n        \"dtype\": \"number\",\n        \"std\": 1806.5940143142543,\n        \"min\": 0.0,\n        \"max\": 5110.0,\n        \"num_unique_values\": 5,\n        \"samples\": [\n          0.0487279843444227,\n          1.0,\n          0.21531985698026107\n        ],\n        \"semantic_type\": \"\",\n        \"description\": \"\"\n      }\n    }\n  ]\n}"
            }
          },
          "metadata": {},
          "execution_count": 20
        }
      ]
    },
    {
      "cell_type": "code",
      "source": [
        "gender = df['gender']\n",
        "gender.value_counts()"
      ],
      "metadata": {
        "colab": {
          "base_uri": "https://localhost:8080/",
          "height": 210
        },
        "id": "53ehQqTwv3lb",
        "outputId": "5b5af309-d362-465b-a829-ef672cd295a6"
      },
      "execution_count": null,
      "outputs": [
        {
          "output_type": "execute_result",
          "data": {
            "text/plain": [
              "gender\n",
              "Female    2994\n",
              "Male      2115\n",
              "Other        1\n",
              "Name: count, dtype: int64"
            ],
            "text/html": [
              "<div>\n",
              "<style scoped>\n",
              "    .dataframe tbody tr th:only-of-type {\n",
              "        vertical-align: middle;\n",
              "    }\n",
              "\n",
              "    .dataframe tbody tr th {\n",
              "        vertical-align: top;\n",
              "    }\n",
              "\n",
              "    .dataframe thead th {\n",
              "        text-align: right;\n",
              "    }\n",
              "</style>\n",
              "<table border=\"1\" class=\"dataframe\">\n",
              "  <thead>\n",
              "    <tr style=\"text-align: right;\">\n",
              "      <th></th>\n",
              "      <th>count</th>\n",
              "    </tr>\n",
              "    <tr>\n",
              "      <th>gender</th>\n",
              "      <th></th>\n",
              "    </tr>\n",
              "  </thead>\n",
              "  <tbody>\n",
              "    <tr>\n",
              "      <th>Female</th>\n",
              "      <td>2994</td>\n",
              "    </tr>\n",
              "    <tr>\n",
              "      <th>Male</th>\n",
              "      <td>2115</td>\n",
              "    </tr>\n",
              "    <tr>\n",
              "      <th>Other</th>\n",
              "      <td>1</td>\n",
              "    </tr>\n",
              "  </tbody>\n",
              "</table>\n",
              "</div><br><label><b>dtype:</b> int64</label>"
            ]
          },
          "metadata": {},
          "execution_count": 6
        }
      ]
    },
    {
      "cell_type": "code",
      "source": [
        "age = df['age']\n",
        "\n",
        "age.describe()"
      ],
      "metadata": {
        "colab": {
          "base_uri": "https://localhost:8080/",
          "height": 335
        },
        "id": "YHRGIUSLvIts",
        "outputId": "c2f1986a-678e-44f6-b019-6b8825878c82"
      },
      "execution_count": null,
      "outputs": [
        {
          "output_type": "execute_result",
          "data": {
            "text/plain": [
              "count    5110.000000\n",
              "mean       43.226614\n",
              "std        22.612647\n",
              "min         0.080000\n",
              "25%        25.000000\n",
              "50%        45.000000\n",
              "75%        61.000000\n",
              "max        82.000000\n",
              "Name: age, dtype: float64"
            ],
            "text/html": [
              "<div>\n",
              "<style scoped>\n",
              "    .dataframe tbody tr th:only-of-type {\n",
              "        vertical-align: middle;\n",
              "    }\n",
              "\n",
              "    .dataframe tbody tr th {\n",
              "        vertical-align: top;\n",
              "    }\n",
              "\n",
              "    .dataframe thead th {\n",
              "        text-align: right;\n",
              "    }\n",
              "</style>\n",
              "<table border=\"1\" class=\"dataframe\">\n",
              "  <thead>\n",
              "    <tr style=\"text-align: right;\">\n",
              "      <th></th>\n",
              "      <th>age</th>\n",
              "    </tr>\n",
              "  </thead>\n",
              "  <tbody>\n",
              "    <tr>\n",
              "      <th>count</th>\n",
              "      <td>5110.000000</td>\n",
              "    </tr>\n",
              "    <tr>\n",
              "      <th>mean</th>\n",
              "      <td>43.226614</td>\n",
              "    </tr>\n",
              "    <tr>\n",
              "      <th>std</th>\n",
              "      <td>22.612647</td>\n",
              "    </tr>\n",
              "    <tr>\n",
              "      <th>min</th>\n",
              "      <td>0.080000</td>\n",
              "    </tr>\n",
              "    <tr>\n",
              "      <th>25%</th>\n",
              "      <td>25.000000</td>\n",
              "    </tr>\n",
              "    <tr>\n",
              "      <th>50%</th>\n",
              "      <td>45.000000</td>\n",
              "    </tr>\n",
              "    <tr>\n",
              "      <th>75%</th>\n",
              "      <td>61.000000</td>\n",
              "    </tr>\n",
              "    <tr>\n",
              "      <th>max</th>\n",
              "      <td>82.000000</td>\n",
              "    </tr>\n",
              "  </tbody>\n",
              "</table>\n",
              "</div><br><label><b>dtype:</b> float64</label>"
            ]
          },
          "metadata": {},
          "execution_count": 4
        }
      ]
    },
    {
      "cell_type": "code",
      "source": [
        "hypertension = df['hypertension']\n",
        "hypertension.value_counts()"
      ],
      "metadata": {
        "colab": {
          "base_uri": "https://localhost:8080/",
          "height": 178
        },
        "id": "TqaCN68JwA1Q",
        "outputId": "9a86984f-23ab-4413-a64c-b99164b1db47"
      },
      "execution_count": null,
      "outputs": [
        {
          "output_type": "execute_result",
          "data": {
            "text/plain": [
              "hypertension\n",
              "0    4612\n",
              "1     498\n",
              "Name: count, dtype: int64"
            ],
            "text/html": [
              "<div>\n",
              "<style scoped>\n",
              "    .dataframe tbody tr th:only-of-type {\n",
              "        vertical-align: middle;\n",
              "    }\n",
              "\n",
              "    .dataframe tbody tr th {\n",
              "        vertical-align: top;\n",
              "    }\n",
              "\n",
              "    .dataframe thead th {\n",
              "        text-align: right;\n",
              "    }\n",
              "</style>\n",
              "<table border=\"1\" class=\"dataframe\">\n",
              "  <thead>\n",
              "    <tr style=\"text-align: right;\">\n",
              "      <th></th>\n",
              "      <th>count</th>\n",
              "    </tr>\n",
              "    <tr>\n",
              "      <th>hypertension</th>\n",
              "      <th></th>\n",
              "    </tr>\n",
              "  </thead>\n",
              "  <tbody>\n",
              "    <tr>\n",
              "      <th>0</th>\n",
              "      <td>4612</td>\n",
              "    </tr>\n",
              "    <tr>\n",
              "      <th>1</th>\n",
              "      <td>498</td>\n",
              "    </tr>\n",
              "  </tbody>\n",
              "</table>\n",
              "</div><br><label><b>dtype:</b> int64</label>"
            ]
          },
          "metadata": {},
          "execution_count": 7
        }
      ]
    },
    {
      "cell_type": "code",
      "source": [
        "heart_disease = df['heart_disease']\n",
        "heart_disease.value_counts()"
      ],
      "metadata": {
        "colab": {
          "base_uri": "https://localhost:8080/",
          "height": 178
        },
        "id": "O3e-EUQfv0xg",
        "outputId": "5346327f-d6b2-43a8-fd34-fc3759032360"
      },
      "execution_count": null,
      "outputs": [
        {
          "output_type": "execute_result",
          "data": {
            "text/plain": [
              "heart_disease\n",
              "0    4834\n",
              "1     276\n",
              "Name: count, dtype: int64"
            ],
            "text/html": [
              "<div>\n",
              "<style scoped>\n",
              "    .dataframe tbody tr th:only-of-type {\n",
              "        vertical-align: middle;\n",
              "    }\n",
              "\n",
              "    .dataframe tbody tr th {\n",
              "        vertical-align: top;\n",
              "    }\n",
              "\n",
              "    .dataframe thead th {\n",
              "        text-align: right;\n",
              "    }\n",
              "</style>\n",
              "<table border=\"1\" class=\"dataframe\">\n",
              "  <thead>\n",
              "    <tr style=\"text-align: right;\">\n",
              "      <th></th>\n",
              "      <th>count</th>\n",
              "    </tr>\n",
              "    <tr>\n",
              "      <th>heart_disease</th>\n",
              "      <th></th>\n",
              "    </tr>\n",
              "  </thead>\n",
              "  <tbody>\n",
              "    <tr>\n",
              "      <th>0</th>\n",
              "      <td>4834</td>\n",
              "    </tr>\n",
              "    <tr>\n",
              "      <th>1</th>\n",
              "      <td>276</td>\n",
              "    </tr>\n",
              "  </tbody>\n",
              "</table>\n",
              "</div><br><label><b>dtype:</b> int64</label>"
            ]
          },
          "metadata": {},
          "execution_count": 10
        }
      ]
    },
    {
      "cell_type": "code",
      "source": [
        "ever_married = df['ever_married']\n",
        "ever_married.value_counts()"
      ],
      "metadata": {
        "colab": {
          "base_uri": "https://localhost:8080/",
          "height": 178
        },
        "id": "R-e0x0XUwqzh",
        "outputId": "e4ace154-45cc-4176-b4db-775b468a14c5"
      },
      "execution_count": null,
      "outputs": [
        {
          "output_type": "execute_result",
          "data": {
            "text/plain": [
              "ever_married\n",
              "Yes    3353\n",
              "No     1757\n",
              "Name: count, dtype: int64"
            ],
            "text/html": [
              "<div>\n",
              "<style scoped>\n",
              "    .dataframe tbody tr th:only-of-type {\n",
              "        vertical-align: middle;\n",
              "    }\n",
              "\n",
              "    .dataframe tbody tr th {\n",
              "        vertical-align: top;\n",
              "    }\n",
              "\n",
              "    .dataframe thead th {\n",
              "        text-align: right;\n",
              "    }\n",
              "</style>\n",
              "<table border=\"1\" class=\"dataframe\">\n",
              "  <thead>\n",
              "    <tr style=\"text-align: right;\">\n",
              "      <th></th>\n",
              "      <th>count</th>\n",
              "    </tr>\n",
              "    <tr>\n",
              "      <th>ever_married</th>\n",
              "      <th></th>\n",
              "    </tr>\n",
              "  </thead>\n",
              "  <tbody>\n",
              "    <tr>\n",
              "      <th>Yes</th>\n",
              "      <td>3353</td>\n",
              "    </tr>\n",
              "    <tr>\n",
              "      <th>No</th>\n",
              "      <td>1757</td>\n",
              "    </tr>\n",
              "  </tbody>\n",
              "</table>\n",
              "</div><br><label><b>dtype:</b> int64</label>"
            ]
          },
          "metadata": {},
          "execution_count": 12
        }
      ]
    },
    {
      "cell_type": "code",
      "source": [
        "work_type = df['work_type']\n",
        "work_type.value_counts()"
      ],
      "metadata": {
        "colab": {
          "base_uri": "https://localhost:8080/",
          "height": 272
        },
        "id": "4d0CZQ8aw46f",
        "outputId": "38f2bfc7-55ed-4152-f099-601f44404321"
      },
      "execution_count": null,
      "outputs": [
        {
          "output_type": "execute_result",
          "data": {
            "text/plain": [
              "work_type\n",
              "Private          2925\n",
              "Self-employed     819\n",
              "children          687\n",
              "Govt_job          657\n",
              "Never_worked       22\n",
              "Name: count, dtype: int64"
            ],
            "text/html": [
              "<div>\n",
              "<style scoped>\n",
              "    .dataframe tbody tr th:only-of-type {\n",
              "        vertical-align: middle;\n",
              "    }\n",
              "\n",
              "    .dataframe tbody tr th {\n",
              "        vertical-align: top;\n",
              "    }\n",
              "\n",
              "    .dataframe thead th {\n",
              "        text-align: right;\n",
              "    }\n",
              "</style>\n",
              "<table border=\"1\" class=\"dataframe\">\n",
              "  <thead>\n",
              "    <tr style=\"text-align: right;\">\n",
              "      <th></th>\n",
              "      <th>count</th>\n",
              "    </tr>\n",
              "    <tr>\n",
              "      <th>work_type</th>\n",
              "      <th></th>\n",
              "    </tr>\n",
              "  </thead>\n",
              "  <tbody>\n",
              "    <tr>\n",
              "      <th>Private</th>\n",
              "      <td>2925</td>\n",
              "    </tr>\n",
              "    <tr>\n",
              "      <th>Self-employed</th>\n",
              "      <td>819</td>\n",
              "    </tr>\n",
              "    <tr>\n",
              "      <th>children</th>\n",
              "      <td>687</td>\n",
              "    </tr>\n",
              "    <tr>\n",
              "      <th>Govt_job</th>\n",
              "      <td>657</td>\n",
              "    </tr>\n",
              "    <tr>\n",
              "      <th>Never_worked</th>\n",
              "      <td>22</td>\n",
              "    </tr>\n",
              "  </tbody>\n",
              "</table>\n",
              "</div><br><label><b>dtype:</b> int64</label>"
            ]
          },
          "metadata": {},
          "execution_count": 13
        }
      ]
    },
    {
      "cell_type": "code",
      "source": [
        "residence_type = df['Residence_type']\n",
        "residence_type.value_counts()"
      ],
      "metadata": {
        "colab": {
          "base_uri": "https://localhost:8080/",
          "height": 178
        },
        "id": "DIPhMFLYxPbl",
        "outputId": "e4941afb-b67d-4be3-e43c-6cb3e7865e0f"
      },
      "execution_count": null,
      "outputs": [
        {
          "output_type": "execute_result",
          "data": {
            "text/plain": [
              "Residence_type\n",
              "Urban    2596\n",
              "Rural    2514\n",
              "Name: count, dtype: int64"
            ],
            "text/html": [
              "<div>\n",
              "<style scoped>\n",
              "    .dataframe tbody tr th:only-of-type {\n",
              "        vertical-align: middle;\n",
              "    }\n",
              "\n",
              "    .dataframe tbody tr th {\n",
              "        vertical-align: top;\n",
              "    }\n",
              "\n",
              "    .dataframe thead th {\n",
              "        text-align: right;\n",
              "    }\n",
              "</style>\n",
              "<table border=\"1\" class=\"dataframe\">\n",
              "  <thead>\n",
              "    <tr style=\"text-align: right;\">\n",
              "      <th></th>\n",
              "      <th>count</th>\n",
              "    </tr>\n",
              "    <tr>\n",
              "      <th>Residence_type</th>\n",
              "      <th></th>\n",
              "    </tr>\n",
              "  </thead>\n",
              "  <tbody>\n",
              "    <tr>\n",
              "      <th>Urban</th>\n",
              "      <td>2596</td>\n",
              "    </tr>\n",
              "    <tr>\n",
              "      <th>Rural</th>\n",
              "      <td>2514</td>\n",
              "    </tr>\n",
              "  </tbody>\n",
              "</table>\n",
              "</div><br><label><b>dtype:</b> int64</label>"
            ]
          },
          "metadata": {},
          "execution_count": 14
        }
      ]
    },
    {
      "cell_type": "code",
      "source": [
        "avg_glucose_level = df['avg_glucose_level']\n",
        "avg_glucose_level.describe()"
      ],
      "metadata": {
        "colab": {
          "base_uri": "https://localhost:8080/",
          "height": 335
        },
        "id": "yU2qn93DxYkN",
        "outputId": "e6650e46-ca92-4a93-9a6a-595db4890d0b"
      },
      "execution_count": null,
      "outputs": [
        {
          "output_type": "execute_result",
          "data": {
            "text/plain": [
              "count    5110.000000\n",
              "mean      106.147677\n",
              "std        45.283560\n",
              "min        55.120000\n",
              "25%        77.245000\n",
              "50%        91.885000\n",
              "75%       114.090000\n",
              "max       271.740000\n",
              "Name: avg_glucose_level, dtype: float64"
            ],
            "text/html": [
              "<div>\n",
              "<style scoped>\n",
              "    .dataframe tbody tr th:only-of-type {\n",
              "        vertical-align: middle;\n",
              "    }\n",
              "\n",
              "    .dataframe tbody tr th {\n",
              "        vertical-align: top;\n",
              "    }\n",
              "\n",
              "    .dataframe thead th {\n",
              "        text-align: right;\n",
              "    }\n",
              "</style>\n",
              "<table border=\"1\" class=\"dataframe\">\n",
              "  <thead>\n",
              "    <tr style=\"text-align: right;\">\n",
              "      <th></th>\n",
              "      <th>avg_glucose_level</th>\n",
              "    </tr>\n",
              "  </thead>\n",
              "  <tbody>\n",
              "    <tr>\n",
              "      <th>count</th>\n",
              "      <td>5110.000000</td>\n",
              "    </tr>\n",
              "    <tr>\n",
              "      <th>mean</th>\n",
              "      <td>106.147677</td>\n",
              "    </tr>\n",
              "    <tr>\n",
              "      <th>std</th>\n",
              "      <td>45.283560</td>\n",
              "    </tr>\n",
              "    <tr>\n",
              "      <th>min</th>\n",
              "      <td>55.120000</td>\n",
              "    </tr>\n",
              "    <tr>\n",
              "      <th>25%</th>\n",
              "      <td>77.245000</td>\n",
              "    </tr>\n",
              "    <tr>\n",
              "      <th>50%</th>\n",
              "      <td>91.885000</td>\n",
              "    </tr>\n",
              "    <tr>\n",
              "      <th>75%</th>\n",
              "      <td>114.090000</td>\n",
              "    </tr>\n",
              "    <tr>\n",
              "      <th>max</th>\n",
              "      <td>271.740000</td>\n",
              "    </tr>\n",
              "  </tbody>\n",
              "</table>\n",
              "</div><br><label><b>dtype:</b> float64</label>"
            ]
          },
          "metadata": {},
          "execution_count": 16
        }
      ]
    },
    {
      "cell_type": "code",
      "source": [
        "bmi = df['bmi']\n",
        "bmi.describe()"
      ],
      "metadata": {
        "colab": {
          "base_uri": "https://localhost:8080/",
          "height": 335
        },
        "id": "8VTgydqTxbH9",
        "outputId": "9256eeb6-e25e-49d7-957b-c203b8f4f917"
      },
      "execution_count": null,
      "outputs": [
        {
          "output_type": "execute_result",
          "data": {
            "text/plain": [
              "count    4909.000000\n",
              "mean       28.893237\n",
              "std         7.854067\n",
              "min        10.300000\n",
              "25%        23.500000\n",
              "50%        28.100000\n",
              "75%        33.100000\n",
              "max        97.600000\n",
              "Name: bmi, dtype: float64"
            ],
            "text/html": [
              "<div>\n",
              "<style scoped>\n",
              "    .dataframe tbody tr th:only-of-type {\n",
              "        vertical-align: middle;\n",
              "    }\n",
              "\n",
              "    .dataframe tbody tr th {\n",
              "        vertical-align: top;\n",
              "    }\n",
              "\n",
              "    .dataframe thead th {\n",
              "        text-align: right;\n",
              "    }\n",
              "</style>\n",
              "<table border=\"1\" class=\"dataframe\">\n",
              "  <thead>\n",
              "    <tr style=\"text-align: right;\">\n",
              "      <th></th>\n",
              "      <th>bmi</th>\n",
              "    </tr>\n",
              "  </thead>\n",
              "  <tbody>\n",
              "    <tr>\n",
              "      <th>count</th>\n",
              "      <td>4909.000000</td>\n",
              "    </tr>\n",
              "    <tr>\n",
              "      <th>mean</th>\n",
              "      <td>28.893237</td>\n",
              "    </tr>\n",
              "    <tr>\n",
              "      <th>std</th>\n",
              "      <td>7.854067</td>\n",
              "    </tr>\n",
              "    <tr>\n",
              "      <th>min</th>\n",
              "      <td>10.300000</td>\n",
              "    </tr>\n",
              "    <tr>\n",
              "      <th>25%</th>\n",
              "      <td>23.500000</td>\n",
              "    </tr>\n",
              "    <tr>\n",
              "      <th>50%</th>\n",
              "      <td>28.100000</td>\n",
              "    </tr>\n",
              "    <tr>\n",
              "      <th>75%</th>\n",
              "      <td>33.100000</td>\n",
              "    </tr>\n",
              "    <tr>\n",
              "      <th>max</th>\n",
              "      <td>97.600000</td>\n",
              "    </tr>\n",
              "  </tbody>\n",
              "</table>\n",
              "</div><br><label><b>dtype:</b> float64</label>"
            ]
          },
          "metadata": {},
          "execution_count": 17
        }
      ]
    },
    {
      "cell_type": "code",
      "source": [
        "smoking_status = df['smoking_status']\n",
        "smoking_status.value_counts()"
      ],
      "metadata": {
        "colab": {
          "base_uri": "https://localhost:8080/",
          "height": 241
        },
        "id": "OCt4tX-0xe5b",
        "outputId": "bd1b17cb-5478-41aa-f9a5-14c4a63f9c62"
      },
      "execution_count": null,
      "outputs": [
        {
          "output_type": "execute_result",
          "data": {
            "text/plain": [
              "smoking_status\n",
              "never smoked       1892\n",
              "Unknown            1544\n",
              "formerly smoked     885\n",
              "smokes              789\n",
              "Name: count, dtype: int64"
            ],
            "text/html": [
              "<div>\n",
              "<style scoped>\n",
              "    .dataframe tbody tr th:only-of-type {\n",
              "        vertical-align: middle;\n",
              "    }\n",
              "\n",
              "    .dataframe tbody tr th {\n",
              "        vertical-align: top;\n",
              "    }\n",
              "\n",
              "    .dataframe thead th {\n",
              "        text-align: right;\n",
              "    }\n",
              "</style>\n",
              "<table border=\"1\" class=\"dataframe\">\n",
              "  <thead>\n",
              "    <tr style=\"text-align: right;\">\n",
              "      <th></th>\n",
              "      <th>count</th>\n",
              "    </tr>\n",
              "    <tr>\n",
              "      <th>smoking_status</th>\n",
              "      <th></th>\n",
              "    </tr>\n",
              "  </thead>\n",
              "  <tbody>\n",
              "    <tr>\n",
              "      <th>never smoked</th>\n",
              "      <td>1892</td>\n",
              "    </tr>\n",
              "    <tr>\n",
              "      <th>Unknown</th>\n",
              "      <td>1544</td>\n",
              "    </tr>\n",
              "    <tr>\n",
              "      <th>formerly smoked</th>\n",
              "      <td>885</td>\n",
              "    </tr>\n",
              "    <tr>\n",
              "      <th>smokes</th>\n",
              "      <td>789</td>\n",
              "    </tr>\n",
              "  </tbody>\n",
              "</table>\n",
              "</div><br><label><b>dtype:</b> int64</label>"
            ]
          },
          "metadata": {},
          "execution_count": 18
        }
      ]
    },
    {
      "cell_type": "code",
      "source": [
        "stroke = df['stroke']\n",
        "stroke.value_counts()"
      ],
      "metadata": {
        "colab": {
          "base_uri": "https://localhost:8080/",
          "height": 178
        },
        "id": "2mnZFQXxxieA",
        "outputId": "b3329ead-0f16-41c3-c04b-7c91e2324e19"
      },
      "execution_count": null,
      "outputs": [
        {
          "output_type": "execute_result",
          "data": {
            "text/plain": [
              "stroke\n",
              "0    4861\n",
              "1     249\n",
              "Name: count, dtype: int64"
            ],
            "text/html": [
              "<div>\n",
              "<style scoped>\n",
              "    .dataframe tbody tr th:only-of-type {\n",
              "        vertical-align: middle;\n",
              "    }\n",
              "\n",
              "    .dataframe tbody tr th {\n",
              "        vertical-align: top;\n",
              "    }\n",
              "\n",
              "    .dataframe thead th {\n",
              "        text-align: right;\n",
              "    }\n",
              "</style>\n",
              "<table border=\"1\" class=\"dataframe\">\n",
              "  <thead>\n",
              "    <tr style=\"text-align: right;\">\n",
              "      <th></th>\n",
              "      <th>count</th>\n",
              "    </tr>\n",
              "    <tr>\n",
              "      <th>stroke</th>\n",
              "      <th></th>\n",
              "    </tr>\n",
              "  </thead>\n",
              "  <tbody>\n",
              "    <tr>\n",
              "      <th>0</th>\n",
              "      <td>4861</td>\n",
              "    </tr>\n",
              "    <tr>\n",
              "      <th>1</th>\n",
              "      <td>249</td>\n",
              "    </tr>\n",
              "  </tbody>\n",
              "</table>\n",
              "</div><br><label><b>dtype:</b> int64</label>"
            ]
          },
          "metadata": {},
          "execution_count": 19
        }
      ]
    },
    {
      "cell_type": "markdown",
      "source": [
        "## Processing & Cleaning Data"
      ],
      "metadata": {
        "id": "U9d7_5G9yKNV"
      }
    },
    {
      "cell_type": "code",
      "source": [
        "# filling in NaN values\n",
        "from sklearn.impute import SimpleImputer\n",
        "\n",
        "imputer = SimpleImputer(strategy='median')\n",
        "df['bmi'] = imputer.fit_transform(df[['bmi']])"
      ],
      "metadata": {
        "id": "xYLlTYU6yQmJ"
      },
      "execution_count": null,
      "outputs": []
    },
    {
      "cell_type": "code",
      "source": [
        "X = df.drop(columns=['stroke'])\n",
        "y = df['stroke']"
      ],
      "metadata": {
        "id": "dLZeDfOa0AdU"
      },
      "execution_count": null,
      "outputs": []
    },
    {
      "cell_type": "code",
      "source": [
        "from imblearn.over_sampling import SMOTE\n",
        "\n",
        "# Convert categorical features to numerical using one-hot encoding\n",
        "X = pd.get_dummies(X, columns=['gender', 'ever_married', 'work_type', 'Residence_type', 'smoking_status'])\n",
        "\n",
        "print(X.head())\n",
        "\n",
        "oversampler = SMOTE()\n",
        "X, y = oversampler.fit_resample(X,y)"
      ],
      "metadata": {
        "colab": {
          "base_uri": "https://localhost:8080/"
        },
        "id": "G4stfyan3CqJ",
        "outputId": "ee6d2d8d-75f8-4454-8d74-cfb39f13bd27"
      },
      "execution_count": null,
      "outputs": [
        {
          "output_type": "stream",
          "name": "stdout",
          "text": [
            "      id   age  hypertension  heart_disease  avg_glucose_level   bmi  \\\n",
            "0   9046  67.0             0              1             228.69  36.6   \n",
            "1  51676  61.0             0              0             202.21  28.1   \n",
            "2  31112  80.0             0              1             105.92  32.5   \n",
            "3  60182  49.0             0              0             171.23  34.4   \n",
            "4   1665  79.0             1              0             174.12  24.0   \n",
            "\n",
            "   gender_Female  gender_Male  gender_Other  ever_married_No  ...  \\\n",
            "0          False         True         False            False  ...   \n",
            "1           True        False         False            False  ...   \n",
            "2          False         True         False            False  ...   \n",
            "3           True        False         False            False  ...   \n",
            "4           True        False         False            False  ...   \n",
            "\n",
            "   work_type_Never_worked  work_type_Private  work_type_Self-employed  \\\n",
            "0                   False               True                    False   \n",
            "1                   False              False                     True   \n",
            "2                   False               True                    False   \n",
            "3                   False               True                    False   \n",
            "4                   False              False                     True   \n",
            "\n",
            "   work_type_children  Residence_type_Rural  Residence_type_Urban  \\\n",
            "0               False                 False                  True   \n",
            "1               False                  True                 False   \n",
            "2               False                  True                 False   \n",
            "3               False                 False                  True   \n",
            "4               False                  True                 False   \n",
            "\n",
            "   smoking_status_Unknown  smoking_status_formerly smoked  \\\n",
            "0                   False                            True   \n",
            "1                   False                           False   \n",
            "2                   False                           False   \n",
            "3                   False                           False   \n",
            "4                   False                           False   \n",
            "\n",
            "   smoking_status_never smoked  smoking_status_smokes  \n",
            "0                        False                  False  \n",
            "1                         True                  False  \n",
            "2                         True                  False  \n",
            "3                        False                   True  \n",
            "4                         True                  False  \n",
            "\n",
            "[5 rows x 22 columns]\n"
          ]
        }
      ]
    },
    {
      "cell_type": "markdown",
      "source": [
        "## Model Training"
      ],
      "metadata": {
        "id": "xQwzUmzM6aEk"
      }
    },
    {
      "cell_type": "code",
      "source": [
        "# scaling the data\n",
        "from sklearn.preprocessing import StandardScaler\n",
        "\n",
        "scaler = StandardScaler()\n",
        "X_scaled = scaler.fit_transform(X)"
      ],
      "metadata": {
        "id": "uvu7emuh-NHR"
      },
      "execution_count": null,
      "outputs": []
    },
    {
      "cell_type": "code",
      "source": [
        "from sklearn.model_selection import train_test_split\n",
        "\n",
        "X_train, X_test, y_train, y_test = train_test_split(X, y, stratify=y, test_size=0.2, random_state=42)"
      ],
      "metadata": {
        "id": "yn83LCBG0QT0"
      },
      "execution_count": null,
      "outputs": []
    },
    {
      "cell_type": "code",
      "source": [
        "X_train_scaled, X_test_scaled, y_train, y_test = train_test_split(X_scaled, y, stratify=y, test_size=0.2, random_state=42)"
      ],
      "metadata": {
        "id": "qudu5G3U-lIe"
      },
      "execution_count": null,
      "outputs": []
    },
    {
      "cell_type": "markdown",
      "source": [
        "### Logistic Regression"
      ],
      "metadata": {
        "id": "_TPcSPSP8uaP"
      }
    },
    {
      "cell_type": "code",
      "source": [
        "from sklearn.linear_model import LogisticRegression\n",
        "from sklearn.metrics import accuracy_score, precision_score, recall_score, f1_score, confusion_matrix, classification_report\n",
        "\n",
        "logistic_regression_model = LogisticRegression(random_state=42, class_weight='balanced')\n",
        "logistic_regression_model.fit(X_train_scaled, y_train)\n",
        "\n",
        "y_pred = logistic_regression_model.predict(X_test_scaled)\n",
        "\n",
        "print(\"Accuracy: \", accuracy_score(y_test, y_pred))\n",
        "print(\"Precision: \", precision_score(y_test, y_pred))\n",
        "print(\"Recall: \", recall_score(y_test, y_pred))\n",
        "print(\"F1 Score: \", f1_score(y_test, y_pred))\n",
        "\n",
        "print(\"Classification Report: \", \"\\n\", classification_report(y_test, y_pred))\n",
        "\n",
        "print(\"Confusion Matrix: \", \"\\n\", confusion_matrix(y_test,y_pred))"
      ],
      "metadata": {
        "colab": {
          "base_uri": "https://localhost:8080/"
        },
        "id": "VFfmxCK88pzY",
        "outputId": "cb02b67b-4739-4972-d76d-7d2e0926fe65"
      },
      "execution_count": null,
      "outputs": [
        {
          "output_type": "stream",
          "name": "stdout",
          "text": [
            "Accuracy:  0.9609254498714653\n",
            "Precision:  0.995575221238938\n",
            "Recall:  0.9259259259259259\n",
            "F1 Score:  0.9594882729211087\n",
            "Classification Report:  \n",
            "               precision    recall  f1-score   support\n",
            "\n",
            "           0       0.93      1.00      0.96       973\n",
            "           1       1.00      0.93      0.96       972\n",
            "\n",
            "    accuracy                           0.96      1945\n",
            "   macro avg       0.96      0.96      0.96      1945\n",
            "weighted avg       0.96      0.96      0.96      1945\n",
            "\n",
            "Confusion Matrix:  \n",
            " [[969   4]\n",
            " [ 72 900]]\n"
          ]
        }
      ]
    },
    {
      "cell_type": "markdown",
      "source": [
        "#### Grid Search with Logistic Regression"
      ],
      "metadata": {
        "id": "aZ1QJIGoAFg0"
      }
    },
    {
      "cell_type": "code",
      "source": [
        "from sklearn.model_selection import GridSearchCV\n",
        "\n",
        "\n",
        "logistic_regression_model = LogisticRegression(random_state=42, class_weight='balanced')\n",
        "\n",
        "# logistic_regression_model.fit(X_train_scaled,y_train)\n",
        "\n",
        "# y_preds = logistic_regression_model.predict(X_test_scaled)\n",
        "\n",
        "\n",
        "params = [{\n",
        "    \"C\": [0.01,0.05,0.1,0.25,1,10],\n",
        "    \"penalty\": ['l1','l2'],\n",
        "    \"solver\": ['liblinear']\n",
        "}]\n",
        "\n",
        "gridsearch = GridSearchCV(estimator=logistic_regression_model, param_grid=params, cv=10)\n",
        "\n",
        "gridsearch.fit(X_train_scaled,y_train)\n",
        "\n",
        "print(\"best parameters: \", gridsearch.best_params_)\n",
        "\n",
        "print(\"best estimator: \", gridsearch.best_estimator_)\n",
        "\n",
        "print(\"best score: \", gridsearch.best_score_)"
      ],
      "metadata": {
        "colab": {
          "base_uri": "https://localhost:8080/"
        },
        "id": "Z6md2lC9AHiK",
        "outputId": "a880aa37-05bf-4727-c68d-d62235a627e6"
      },
      "execution_count": null,
      "outputs": [
        {
          "output_type": "stream",
          "name": "stdout",
          "text": [
            "best parameters:  {'C': 0.25, 'penalty': 'l2', 'solver': 'liblinear'}\n",
            "best estimator:  LogisticRegression(C=0.25, class_weight='balanced', random_state=42,\n",
            "                   solver='liblinear')\n",
            "best score:  0.9603960920156291\n"
          ]
        }
      ]
    },
    {
      "cell_type": "markdown",
      "source": [
        "#### Pipeline for Logistic Regression"
      ],
      "metadata": {
        "id": "jte-_KqEDBz9"
      }
    },
    {
      "cell_type": "code",
      "source": [
        "from sklearn.pipeline import Pipeline\n",
        "\n",
        "stroke_prediction_pipeline = Pipeline([\n",
        "    ('scaler', StandardScaler()),\n",
        "    ('model', LogisticRegression(C=0.25, penalty='l2', solver='liblinear',random_state=42,class_weight='balanced'))\n",
        "])\n",
        "\n",
        "stroke_prediction_pipeline.fit(X_train,y_train)\n",
        "\n",
        "y_preds = stroke_prediction_pipeline.predict(X_test)\n",
        "\n",
        "print(\"Accuracy: \", accuracy_score(y_test, y_pred))\n",
        "print(\"Precision: \", precision_score(y_test, y_pred))\n",
        "print(\"Recall: \", recall_score(y_test, y_pred))\n",
        "print(\"F1 Score: \", f1_score(y_test, y_pred))\n",
        "\n",
        "print(\"Classification Report: \", \"\\n\", classification_report(y_test, y_pred))\n",
        "\n",
        "print(\"Confusion Matrix: \", \"\\n\", confusion_matrix(y_test,y_pred))"
      ],
      "metadata": {
        "colab": {
          "base_uri": "https://localhost:8080/"
        },
        "id": "90tJ2rfbC8ks",
        "outputId": "df4274e9-cd2d-44e8-b800-dc9f369772a4"
      },
      "execution_count": null,
      "outputs": [
        {
          "output_type": "stream",
          "name": "stdout",
          "text": [
            "Accuracy:  0.9629820051413882\n",
            "Precision:  0.9988913525498891\n",
            "Recall:  0.926954732510288\n",
            "F1 Score:  0.9615795090715048\n",
            "Classification Report:  \n",
            "               precision    recall  f1-score   support\n",
            "\n",
            "           0       0.93      1.00      0.96       973\n",
            "           1       1.00      0.93      0.96       972\n",
            "\n",
            "    accuracy                           0.96      1945\n",
            "   macro avg       0.97      0.96      0.96      1945\n",
            "weighted avg       0.97      0.96      0.96      1945\n",
            "\n",
            "Confusion Matrix:  \n",
            " [[972   1]\n",
            " [ 71 901]]\n"
          ]
        }
      ]
    },
    {
      "cell_type": "markdown",
      "source": [
        "### SVM"
      ],
      "metadata": {
        "id": "N79sTckYD9Yv"
      }
    },
    {
      "cell_type": "code",
      "source": [
        "from sklearn.svm import SVC\n",
        "from sklearn.metrics import accuracy_score, precision_score, recall_score, f1_score, confusion_matrix, classification_report\n",
        "\n",
        "svm_model = SVC(random_state=42)\n",
        "svm_model.fit(X_train_scaled, y_train)\n",
        "\n",
        "y_pred = svm_model.predict(X_test_scaled)\n",
        "\n",
        "print(\"Accuracy: \", accuracy_score(y_test, y_pred))\n",
        "print(\"Precision: \", precision_score(y_test, y_pred))\n",
        "print(\"Recall: \", recall_score(y_test, y_pred))\n",
        "print(\"F1 Score: \", f1_score(y_test, y_pred))\n",
        "\n",
        "print(\"Classification Report: \", \"\\n\", classification_report(y_test, y_pred))\n",
        "\n",
        "print(\"Confusion Matrix: \", \"\\n\", confusion_matrix(y_test,y_pred))"
      ],
      "metadata": {
        "colab": {
          "base_uri": "https://localhost:8080/"
        },
        "id": "GrrRQ4NlEA-e",
        "outputId": "0af48cfb-389e-4801-ec3b-0281ae1d45d6"
      },
      "execution_count": null,
      "outputs": [
        {
          "output_type": "stream",
          "name": "stdout",
          "text": [
            "Accuracy:  0.9629820051413882\n",
            "Precision:  0.9988913525498891\n",
            "Recall:  0.926954732510288\n",
            "F1 Score:  0.9615795090715048\n",
            "Classification Report:  \n",
            "               precision    recall  f1-score   support\n",
            "\n",
            "           0       0.93      1.00      0.96       973\n",
            "           1       1.00      0.93      0.96       972\n",
            "\n",
            "    accuracy                           0.96      1945\n",
            "   macro avg       0.97      0.96      0.96      1945\n",
            "weighted avg       0.97      0.96      0.96      1945\n",
            "\n",
            "Confusion Matrix:  \n",
            " [[972   1]\n",
            " [ 71 901]]\n"
          ]
        }
      ]
    },
    {
      "cell_type": "markdown",
      "source": [
        "#### Grid Search with SVM"
      ],
      "metadata": {
        "id": "xBwhkRuXMQZV"
      }
    },
    {
      "cell_type": "code",
      "source": [
        "from sklearn.model_selection import GridSearchCV\n",
        "\n",
        "svc_model = SVC(random_state=42)\n",
        "\n",
        "\n",
        "params = [{\n",
        "    \"C\": [0.01,0.05,0.1,0.25,1,10],\n",
        "    \"kernel\": [\"linear\", \"poly\", \"rbf\", \"sigmoid\"],\n",
        "    \"degree\": [1,2,3,4,5,6]\n",
        "}]\n",
        "\n",
        "gridsearch = GridSearchCV(estimator=svc_model, param_grid=params, cv=10)\n",
        "\n",
        "gridsearch.fit(X_train_scaled,y_train)\n",
        "\n",
        "print(\"best parameters: \", gridsearch.best_params_)\n",
        "\n",
        "print(\"best estimator: \", gridsearch.best_estimator_)\n",
        "\n",
        "print(\"best score: \", gridsearch.best_score_)"
      ],
      "metadata": {
        "colab": {
          "base_uri": "https://localhost:8080/"
        },
        "id": "8muujYBMMS-P",
        "outputId": "2ecc2b83-f28b-4766-a5e5-6c9233733a4f"
      },
      "execution_count": null,
      "outputs": [
        {
          "output_type": "stream",
          "name": "stdout",
          "text": [
            "best parameters:  {'C': 0.05, 'degree': 1, 'kernel': 'linear'}\n",
            "best estimator:  SVC(C=0.05, degree=1, kernel='linear', random_state=42)\n",
            "best score:  0.9614240388019306\n"
          ]
        }
      ]
    },
    {
      "cell_type": "markdown",
      "source": [
        "#### Pipeline for SVM"
      ],
      "metadata": {
        "id": "Z6V7a1-gOZ5w"
      }
    },
    {
      "cell_type": "code",
      "source": [
        "stroke_prediction_pipeline = Pipeline([\n",
        "    ('scaler', StandardScaler()),\n",
        "    ('model', SVC(C=0.05, degree=1, kernel='linear', random_state=42))\n",
        "])\n",
        "\n",
        "stroke_prediction_pipeline.fit(X_train,y_train)\n",
        "\n",
        "y_preds = stroke_prediction_pipeline.predict(X_test)\n",
        "\n",
        "print(\"Accuracy: \", accuracy_score(y_test, y_pred))\n",
        "print(\"Precision: \", precision_score(y_test, y_pred))\n",
        "print(\"Recall: \", recall_score(y_test, y_pred))\n",
        "print(\"F1 Score: \", f1_score(y_test, y_pred))\n",
        "\n",
        "print(\"Classification Report: \", \"\\n\", classification_report(y_test, y_pred))\n",
        "\n",
        "print(\"Confusion Matrix: \", \"\\n\", confusion_matrix(y_test,y_pred))"
      ],
      "metadata": {
        "colab": {
          "base_uri": "https://localhost:8080/"
        },
        "id": "-DsqLcNfOb5N",
        "outputId": "0c8a3358-65e3-413c-af62-a454cd3e26b1"
      },
      "execution_count": null,
      "outputs": [
        {
          "output_type": "stream",
          "name": "stdout",
          "text": [
            "Accuracy:  0.9629820051413882\n",
            "Precision:  0.9988913525498891\n",
            "Recall:  0.926954732510288\n",
            "F1 Score:  0.9615795090715048\n",
            "Classification Report:  \n",
            "               precision    recall  f1-score   support\n",
            "\n",
            "           0       0.93      1.00      0.96       973\n",
            "           1       1.00      0.93      0.96       972\n",
            "\n",
            "    accuracy                           0.96      1945\n",
            "   macro avg       0.97      0.96      0.96      1945\n",
            "weighted avg       0.97      0.96      0.96      1945\n",
            "\n",
            "Confusion Matrix:  \n",
            " [[972   1]\n",
            " [ 71 901]]\n"
          ]
        }
      ]
    },
    {
      "cell_type": "markdown",
      "source": [
        "### Random Forest Classifier"
      ],
      "metadata": {
        "id": "QjTR3PzBEVtm"
      }
    },
    {
      "cell_type": "code",
      "source": [
        "from sklearn.ensemble import RandomForestClassifier\n",
        "from sklearn.metrics import accuracy_score, precision_score, recall_score, f1_score, confusion_matrix, classification_report\n",
        "\n",
        "random_forest_model = RandomForestClassifier(random_state=42, class_weight='balanced')\n",
        "random_forest_model.fit(X_train_scaled, y_train)\n",
        "\n",
        "y_pred = random_forest_model.predict(X_test_scaled)\n",
        "\n",
        "print(\"Accuracy: \", accuracy_score(y_test, y_pred))\n",
        "print(\"Precision: \", precision_score(y_test, y_pred))\n",
        "print(\"Recall: \", recall_score(y_test, y_pred))\n",
        "print(\"F1 Score: \", f1_score(y_test, y_pred))\n",
        "\n",
        "print(\"Classification Report: \", \"\\n\", classification_report(y_test, y_pred))\n",
        "\n",
        "print(\"Confusion Matrix: \", \"\\n\", confusion_matrix(y_test,y_pred))"
      ],
      "metadata": {
        "colab": {
          "base_uri": "https://localhost:8080/"
        },
        "id": "QHsAsnpuS9Sc",
        "outputId": "3be1a335-05d9-4001-ba8c-6e7828a408cf"
      },
      "execution_count": null,
      "outputs": [
        {
          "output_type": "stream",
          "name": "stdout",
          "text": [
            "Accuracy:  0.9773778920308483\n",
            "Precision:  0.9904862579281184\n",
            "Recall:  0.9639917695473251\n",
            "F1 Score:  0.9770594369134515\n",
            "Classification Report:  \n",
            "               precision    recall  f1-score   support\n",
            "\n",
            "           0       0.96      0.99      0.98       973\n",
            "           1       0.99      0.96      0.98       972\n",
            "\n",
            "    accuracy                           0.98      1945\n",
            "   macro avg       0.98      0.98      0.98      1945\n",
            "weighted avg       0.98      0.98      0.98      1945\n",
            "\n",
            "Confusion Matrix:  \n",
            " [[964   9]\n",
            " [ 35 937]]\n"
          ]
        }
      ]
    },
    {
      "cell_type": "markdown",
      "source": [
        "#### Grid Search with Random Forest Classifier"
      ],
      "metadata": {
        "id": "dFohyZ5nTOIj"
      }
    },
    {
      "cell_type": "code",
      "source": [
        "from sklearn.model_selection import GridSearchCV\n",
        "\n",
        "random_forest_model = RandomForestClassifier(random_state=42, class_weight='balanced')\n",
        "\n",
        "params = [{\n",
        "    \"n_estimators\": [50,100,250,500],\n",
        "    \"criterion\": [\"gini\", \"entropy\", \"log_loss\"]\n",
        "}]\n",
        "\n",
        "gridsearch = GridSearchCV(estimator=random_forest_model, param_grid=params, cv=10)\n",
        "\n",
        "gridsearch.fit(X_train_scaled,y_train)\n",
        "\n",
        "print(\"best parameters: \", gridsearch.best_params_)\n",
        "\n",
        "print(\"best estimator: \", gridsearch.best_estimator_)\n",
        "\n",
        "print(\"best score: \", gridsearch.best_score_)"
      ],
      "metadata": {
        "colab": {
          "base_uri": "https://localhost:8080/"
        },
        "id": "LDi0ADdJTRTI",
        "outputId": "1de84be5-fa17-4119-e2e2-bf2355489cfb"
      },
      "execution_count": null,
      "outputs": [
        {
          "output_type": "stream",
          "name": "stdout",
          "text": [
            "best parameters:  {'criterion': 'gini', 'n_estimators': 250}\n",
            "best estimator:  RandomForestClassifier(class_weight='balanced', n_estimators=250,\n",
            "                       random_state=42)\n",
            "best score:  0.9724828206833349\n"
          ]
        }
      ]
    },
    {
      "cell_type": "markdown",
      "source": [
        "#### Pipeline for Random Forest Classifier"
      ],
      "metadata": {
        "id": "jB4xpp1QXDEK"
      }
    },
    {
      "cell_type": "code",
      "source": [
        "stroke_prediction_pipeline = Pipeline([\n",
        "    ('scaler', StandardScaler()),\n",
        "    ('model', RandomForestClassifier(n_estimators=250, random_state=42, criterion='gini',class_weight='balanced'))\n",
        "])\n",
        "\n",
        "stroke_prediction_pipeline.fit(X_train,y_train)\n",
        "\n",
        "y_preds = stroke_prediction_pipeline.predict(X_test)\n",
        "\n",
        "print(\"Accuracy: \", accuracy_score(y_test, y_pred))\n",
        "print(\"Precision: \", precision_score(y_test, y_pred))\n",
        "print(\"Recall: \", recall_score(y_test, y_pred))\n",
        "print(\"F1 Score: \", f1_score(y_test, y_pred))\n",
        "\n",
        "print(\"Classification Report: \", \"\\n\", classification_report(y_test, y_pred))\n",
        "\n",
        "print(\"Confusion Matrix: \", \"\\n\", confusion_matrix(y_test,y_pred))"
      ],
      "metadata": {
        "colab": {
          "base_uri": "https://localhost:8080/"
        },
        "id": "mlPPrcZEXMRc",
        "outputId": "e442e118-88f9-4331-f26a-4e00f8843263"
      },
      "execution_count": null,
      "outputs": [
        {
          "output_type": "stream",
          "name": "stdout",
          "text": [
            "Accuracy:  0.9773778920308483\n",
            "Precision:  0.9904862579281184\n",
            "Recall:  0.9639917695473251\n",
            "F1 Score:  0.9770594369134515\n",
            "Classification Report:  \n",
            "               precision    recall  f1-score   support\n",
            "\n",
            "           0       0.96      0.99      0.98       973\n",
            "           1       0.99      0.96      0.98       972\n",
            "\n",
            "    accuracy                           0.98      1945\n",
            "   macro avg       0.98      0.98      0.98      1945\n",
            "weighted avg       0.98      0.98      0.98      1945\n",
            "\n",
            "Confusion Matrix:  \n",
            " [[964   9]\n",
            " [ 35 937]]\n"
          ]
        }
      ]
    },
    {
      "cell_type": "markdown",
      "source": [
        "### XGB Classifier"
      ],
      "metadata": {
        "id": "9TXPyE8VGp-R"
      }
    },
    {
      "cell_type": "code",
      "source": [
        "from xgboost import XGBClassifier\n",
        "from sklearn.metrics import accuracy_score, precision_score, recall_score, f1_score, confusion_matrix, classification_report\n",
        "\n",
        "xgb_model = XGBClassifier(random_state=42,eval_metric='logloss')\n",
        "xgb_model.fit(X_train_scaled, y_train)\n",
        "\n",
        "y_pred = xgb_model.predict(X_test_scaled)\n",
        "\n",
        "print(\"Accuracy: \", accuracy_score(y_test, y_pred))\n",
        "print(\"Precision: \", precision_score(y_test, y_pred))\n",
        "print(\"Recall: \", recall_score(y_test, y_pred))\n",
        "print(\"F1 Score: \", f1_score(y_test, y_pred))\n",
        "\n",
        "print(\"Classification Report: \", \"\\n\", classification_report(y_test, y_pred))\n",
        "\n",
        "print(\"Confusion Matrix: \", \"\\n\", confusion_matrix(y_test,y_pred))"
      ],
      "metadata": {
        "colab": {
          "base_uri": "https://localhost:8080/"
        },
        "id": "3zYjf1LXYSQl",
        "outputId": "d54d24bb-a72e-4318-c349-65c43dc222d1"
      },
      "execution_count": null,
      "outputs": [
        {
          "output_type": "stream",
          "name": "stdout",
          "text": [
            "Accuracy:  0.9737789203084833\n",
            "Precision:  0.9811912225705329\n",
            "Recall:  0.9660493827160493\n",
            "F1 Score:  0.973561430793157\n",
            "Classification Report:  \n",
            "               precision    recall  f1-score   support\n",
            "\n",
            "           0       0.97      0.98      0.97       973\n",
            "           1       0.98      0.97      0.97       972\n",
            "\n",
            "    accuracy                           0.97      1945\n",
            "   macro avg       0.97      0.97      0.97      1945\n",
            "weighted avg       0.97      0.97      0.97      1945\n",
            "\n",
            "Confusion Matrix:  \n",
            " [[955  18]\n",
            " [ 33 939]]\n"
          ]
        }
      ]
    },
    {
      "cell_type": "markdown",
      "source": [
        "#### Grid Search with XGB Classifier"
      ],
      "metadata": {
        "id": "jA2XCSEwc_M6"
      }
    },
    {
      "cell_type": "code",
      "source": [
        "from sklearn.model_selection import GridSearchCV\n",
        "\n",
        "xgb_model = XGBClassifier(random_state=42,eval_metric='logloss')\n",
        "\n",
        "params = {\n",
        "    'learning_rate': [0.01,0.05,0.1,0.3,1],\n",
        "    'gamma': [0,0.05,0.1,0.2]\n",
        "}\n",
        "\n",
        "gridsearch = GridSearchCV(estimator=xgb_model, param_grid=params, cv=10)\n",
        "gridsearch.fit(X_train_scaled,y_train)\n",
        "\n",
        "print(\"best parameters: \", gridsearch.best_params_)\n",
        "\n",
        "print(\"best estimator: \", gridsearch.best_estimator_)\n",
        "\n",
        "print(\"best score: \", gridsearch.best_score_)"
      ],
      "metadata": {
        "colab": {
          "base_uri": "https://localhost:8080/"
        },
        "id": "Ks_49_dTdEoD",
        "outputId": "b77aaf16-c50d-42e2-ea33-f93ff1829583"
      },
      "execution_count": null,
      "outputs": [
        {
          "output_type": "stream",
          "name": "stdout",
          "text": [
            "best parameters:  {'gamma': 0.1, 'learning_rate': 0.3}\n",
            "best estimator:  XGBClassifier(base_score=None, booster=None, callbacks=None,\n",
            "              colsample_bylevel=None, colsample_bynode=None,\n",
            "              colsample_bytree=None, device=None, early_stopping_rounds=None,\n",
            "              enable_categorical=False, eval_metric='logloss',\n",
            "              feature_types=None, gamma=0.1, grow_policy=None,\n",
            "              importance_type=None, interaction_constraints=None,\n",
            "              learning_rate=0.3, max_bin=None, max_cat_threshold=None,\n",
            "              max_cat_to_onehot=None, max_delta_step=None, max_depth=None,\n",
            "              max_leaves=None, min_child_weight=None, missing=nan,\n",
            "              monotone_constraints=None, multi_strategy=None, n_estimators=None,\n",
            "              n_jobs=None, num_parallel_tree=None, random_state=42, ...)\n",
            "best score:  0.969396333535151\n"
          ]
        }
      ]
    },
    {
      "cell_type": "markdown",
      "source": [
        "#### Pipeline for XGB Classifier"
      ],
      "metadata": {
        "id": "pseCXPoweY3h"
      }
    },
    {
      "cell_type": "code",
      "source": [
        "stroke_prediction_pipeline = Pipeline([\n",
        "    ('scaler', StandardScaler()),\n",
        "    ('model', XGBClassifier(random_state=42,eval_metric='logloss',gamma=0.1,learning_rate=0.3))\n",
        "])\n",
        "\n",
        "stroke_prediction_pipeline.fit(X_train,y_train)\n",
        "\n",
        "y_preds = stroke_prediction_pipeline.predict(X_test)\n",
        "\n",
        "print(\"Accuracy: \", accuracy_score(y_test, y_pred))\n",
        "print(\"Precision: \", precision_score(y_test, y_pred))\n",
        "print(\"Recall: \", recall_score(y_test, y_pred))\n",
        "print(\"F1 Score: \", f1_score(y_test, y_pred))\n",
        "\n",
        "print(\"Classification Report: \", \"\\n\", classification_report(y_test, y_pred))\n",
        "\n",
        "print(\"Confusion Matrix: \", \"\\n\", confusion_matrix(y_test,y_pred))"
      ],
      "metadata": {
        "colab": {
          "base_uri": "https://localhost:8080/"
        },
        "id": "ThtWf9cgefln",
        "outputId": "b93a3a4d-1e3b-46fb-b969-30b9e5fd6061"
      },
      "execution_count": null,
      "outputs": [
        {
          "output_type": "stream",
          "name": "stdout",
          "text": [
            "Accuracy:  0.9737789203084833\n",
            "Precision:  0.9811912225705329\n",
            "Recall:  0.9660493827160493\n",
            "F1 Score:  0.973561430793157\n",
            "Classification Report:  \n",
            "               precision    recall  f1-score   support\n",
            "\n",
            "           0       0.97      0.98      0.97       973\n",
            "           1       0.98      0.97      0.97       972\n",
            "\n",
            "    accuracy                           0.97      1945\n",
            "   macro avg       0.97      0.97      0.97      1945\n",
            "weighted avg       0.97      0.97      0.97      1945\n",
            "\n",
            "Confusion Matrix:  \n",
            " [[955  18]\n",
            " [ 33 939]]\n"
          ]
        }
      ]
    },
    {
      "cell_type": "markdown",
      "source": [
        "### Decision Tree Classifier"
      ],
      "metadata": {
        "id": "azJOjnmsETaI"
      }
    },
    {
      "cell_type": "code",
      "source": [
        "from sklearn.tree import DecisionTreeClassifier\n",
        "from sklearn.metrics import accuracy_score, precision_score, recall_score, f1_score, confusion_matrix, classification_report\n",
        "\n",
        "decision_tree_model = DecisionTreeClassifier(random_state=42, class_weight='balanced')\n",
        "decision_tree_model.fit(X_train_scaled, y_train)\n",
        "\n",
        "y_pred = decision_tree_model.predict(X_test_scaled)\n",
        "\n",
        "print(\"Accuracy: \", accuracy_score(y_test, y_pred))\n",
        "print(\"Precision: \", precision_score(y_test, y_pred))\n",
        "print(\"Recall: \", recall_score(y_test, y_pred))\n",
        "print(\"F1 Score: \", f1_score(y_test, y_pred))\n",
        "\n",
        "print(\"Classification Report: \", \"\\n\", classification_report(y_test, y_pred))\n",
        "\n",
        "print(\"Confusion Matrix: \", \"\\n\", confusion_matrix(y_test,y_pred))"
      ],
      "metadata": {
        "colab": {
          "base_uri": "https://localhost:8080/"
        },
        "id": "a4HAT-TwglpM",
        "outputId": "baea13a4-9bc7-4308-d2ca-74759fa5b93f"
      },
      "execution_count": null,
      "outputs": [
        {
          "output_type": "stream",
          "name": "stdout",
          "text": [
            "Accuracy:  0.9501285347043702\n",
            "Precision:  0.9405840886203424\n",
            "Recall:  0.9609053497942387\n",
            "F1 Score:  0.9506361323155216\n",
            "Classification Report:  \n",
            "               precision    recall  f1-score   support\n",
            "\n",
            "           0       0.96      0.94      0.95       973\n",
            "           1       0.94      0.96      0.95       972\n",
            "\n",
            "    accuracy                           0.95      1945\n",
            "   macro avg       0.95      0.95      0.95      1945\n",
            "weighted avg       0.95      0.95      0.95      1945\n",
            "\n",
            "Confusion Matrix:  \n",
            " [[914  59]\n",
            " [ 38 934]]\n"
          ]
        }
      ]
    },
    {
      "cell_type": "markdown",
      "source": [
        "#### Grid Search with Decision Tree Classifier"
      ],
      "metadata": {
        "id": "I8SFhNqGg_90"
      }
    },
    {
      "cell_type": "code",
      "source": [
        "from sklearn.model_selection import GridSearchCV\n",
        "\n",
        "decision_tree_model = DecisionTreeClassifier(random_state=42, class_weight='balanced')\n",
        "\n",
        "params = {\n",
        "    'criterion': ['gini', 'entropy', 'log_loss'],\n",
        "    'splitter': ['best','random']\n",
        "}\n",
        "\n",
        "gridsearch = GridSearchCV(estimator=decision_tree_model, param_grid=params, cv=10)\n",
        "gridsearch.fit(X_train_scaled,y_train)\n",
        "\n",
        "print(\"best parameters: \", gridsearch.best_params_)\n",
        "\n",
        "print(\"best estimator: \", gridsearch.best_estimator_)\n",
        "\n",
        "print(\"best score: \", gridsearch.best_score_)"
      ],
      "metadata": {
        "colab": {
          "base_uri": "https://localhost:8080/"
        },
        "id": "tf1CBfcUhC6Y",
        "outputId": "9e2691cf-1d12-4b85-9fd6-5db50b137760"
      },
      "execution_count": null,
      "outputs": [
        {
          "output_type": "stream",
          "name": "stdout",
          "text": [
            "best parameters:  {'criterion': 'gini', 'splitter': 'random'}\n",
            "best estimator:  DecisionTreeClassifier(class_weight='balanced', random_state=42,\n",
            "                       splitter='random')\n",
            "best score:  0.9468921731132529\n"
          ]
        }
      ]
    },
    {
      "cell_type": "markdown",
      "source": [
        "#### Pipeline for DecisionTree Classifier"
      ],
      "metadata": {
        "id": "_jdMZwbmiQyA"
      }
    },
    {
      "cell_type": "code",
      "source": [
        "stroke_prediction_pipeline = Pipeline([\n",
        "    ('scaler', StandardScaler()),\n",
        "    ('model', DecisionTreeClassifier(random_state=42,class_weight='balanced',criterion='gini',splitter='random'))\n",
        "])\n",
        "\n",
        "stroke_prediction_pipeline.fit(X_train,y_train)\n",
        "\n",
        "y_preds = stroke_prediction_pipeline.predict(X_test)\n",
        "\n",
        "print(\"Accuracy: \", accuracy_score(y_test, y_pred))\n",
        "print(\"Precision: \", precision_score(y_test, y_pred))\n",
        "print(\"Recall: \", recall_score(y_test, y_pred))\n",
        "print(\"F1 Score: \", f1_score(y_test, y_pred))\n",
        "\n",
        "print(\"Classification Report: \", \"\\n\", classification_report(y_test, y_pred))\n",
        "\n",
        "print(\"Confusion Matrix: \", \"\\n\", confusion_matrix(y_test,y_pred))"
      ],
      "metadata": {
        "colab": {
          "base_uri": "https://localhost:8080/"
        },
        "id": "jv2Jc8vaiZI7",
        "outputId": "58cfa1d6-f362-4a86-bbb4-99b05e5b0a6e"
      },
      "execution_count": null,
      "outputs": [
        {
          "output_type": "stream",
          "name": "stdout",
          "text": [
            "Accuracy:  0.9501285347043702\n",
            "Precision:  0.9405840886203424\n",
            "Recall:  0.9609053497942387\n",
            "F1 Score:  0.9506361323155216\n",
            "Classification Report:  \n",
            "               precision    recall  f1-score   support\n",
            "\n",
            "           0       0.96      0.94      0.95       973\n",
            "           1       0.94      0.96      0.95       972\n",
            "\n",
            "    accuracy                           0.95      1945\n",
            "   macro avg       0.95      0.95      0.95      1945\n",
            "weighted avg       0.95      0.95      0.95      1945\n",
            "\n",
            "Confusion Matrix:  \n",
            " [[914  59]\n",
            " [ 38 934]]\n"
          ]
        }
      ]
    },
    {
      "cell_type": "markdown",
      "source": [
        "### MLP Classifier"
      ],
      "metadata": {
        "id": "J8fOjZ6CERAe"
      }
    },
    {
      "cell_type": "code",
      "source": [
        "from sklearn.neural_network import MLPClassifier\n",
        "from sklearn.metrics import accuracy_score, precision_score, recall_score, f1_score, confusion_matrix, classification_report\n",
        "\n",
        "mlp_model = MLPClassifier(random_state=42)\n",
        "mlp_model.fit(X_train_scaled, y_train)\n",
        "\n",
        "y_pred = mlp_model.predict(X_test_scaled)\n",
        "\n",
        "print(\"Accuracy: \", accuracy_score(y_test, y_pred))\n",
        "print(\"Precision: \", precision_score(y_test, y_pred))\n",
        "print(\"Recall: \", recall_score(y_test, y_pred))\n",
        "print(\"F1 Score: \", f1_score(y_test, y_pred))\n",
        "\n",
        "print(\"Classification Report: \", \"\\n\", classification_report(y_test, y_pred))\n",
        "\n",
        "print(\"Confusion Matrix: \", \"\\n\", confusion_matrix(y_test,y_pred))"
      ],
      "metadata": {
        "colab": {
          "base_uri": "https://localhost:8080/"
        },
        "id": "fgmzDaEZitLo",
        "outputId": "5455fdfe-e3b3-4f30-aba0-6b77b7e4c506"
      },
      "execution_count": null,
      "outputs": [
        {
          "output_type": "stream",
          "name": "stdout",
          "text": [
            "Accuracy:  0.9701799485861182\n",
            "Precision:  0.9790356394129979\n",
            "Recall:  0.9609053497942387\n",
            "F1 Score:  0.9698857736240913\n",
            "Classification Report:  \n",
            "               precision    recall  f1-score   support\n",
            "\n",
            "           0       0.96      0.98      0.97       973\n",
            "           1       0.98      0.96      0.97       972\n",
            "\n",
            "    accuracy                           0.97      1945\n",
            "   macro avg       0.97      0.97      0.97      1945\n",
            "weighted avg       0.97      0.97      0.97      1945\n",
            "\n",
            "Confusion Matrix:  \n",
            " [[953  20]\n",
            " [ 38 934]]\n"
          ]
        }
      ]
    },
    {
      "cell_type": "markdown",
      "source": [
        "#### Grid Search with MLP Classifier"
      ],
      "metadata": {
        "id": "hnHYB8ZjkcBa"
      }
    },
    {
      "cell_type": "code",
      "source": [
        "from sklearn.model_selection import GridSearchCV\n",
        "\n",
        "mlp_model = MLPClassifier(random_state=42)\n",
        "\n",
        "params = {\n",
        "    'hidden_layer_sizes': [(100,)],\n",
        "    'activation': ['relu','tanh'],\n",
        "    'alpha': [0.0001,0.001,0.01,0.1,1]\n",
        "}\n",
        "\n",
        "gridsearch = GridSearchCV(estimator=mlp_model, param_grid=params, cv=10)\n",
        "gridsearch.fit(X_train_scaled,y_train)\n",
        "\n",
        "print(\"best parameters: \", gridsearch.best_params_)\n",
        "\n",
        "print(\"best estimator: \", gridsearch.best_estimator_)\n",
        "\n",
        "print(\"best score: \", gridsearch.best_score_)"
      ],
      "metadata": {
        "id": "SnrBMllRlNwb",
        "colab": {
          "base_uri": "https://localhost:8080/"
        },
        "outputId": "bb5b2588-8507-4ed0-d069-b3b3de2f8e77"
      },
      "execution_count": 12,
      "outputs": [
        {
          "output_type": "stream",
          "name": "stdout",
          "text": [
            "best parameters:  {'activation': 'relu', 'alpha': 0.1, 'hidden_layer_sizes': (100,)}\n",
            "best estimator:  MLPClassifier(alpha=0.1, random_state=42)\n",
            "best score:  0.9643819912457443\n"
          ]
        }
      ]
    },
    {
      "cell_type": "markdown",
      "source": [
        "#### Pipeline for MLP Classifier"
      ],
      "metadata": {
        "id": "4UTf7bTXpaKi"
      }
    },
    {
      "cell_type": "code",
      "source": [
        "from sklearn.pipeline import Pipeline\n",
        "\n",
        "stroke_prediction_pipeline = Pipeline([\n",
        "    ('scaler', StandardScaler()),\n",
        "    ('model', MLPClassifier(random_state=42,activation='relu',alpha=0.0001,hidden_layer_sizes=(100,)))\n",
        "])\n",
        "\n",
        "stroke_prediction_pipeline.fit(X_train,y_train)\n",
        "\n",
        "y_preds = stroke_prediction_pipeline.predict(X_test)\n",
        "\n",
        "print(\"Accuracy: \", accuracy_score(y_test, y_pred))\n",
        "print(\"Precision: \", precision_score(y_test, y_pred))\n",
        "print(\"Recall: \", recall_score(y_test, y_pred))\n",
        "print(\"F1 Score: \", f1_score(y_test, y_pred))\n",
        "\n",
        "print(\"Classification Report: \", \"\\n\", classification_report(y_test, y_pred))\n",
        "\n",
        "print(\"Confusion Matrix: \", \"\\n\", confusion_matrix(y_test,y_pred))"
      ],
      "metadata": {
        "id": "DM8s_TDbpY4m",
        "colab": {
          "base_uri": "https://localhost:8080/"
        },
        "outputId": "0f3bf249-1950-4261-821d-f411934a8382"
      },
      "execution_count": 14,
      "outputs": [
        {
          "output_type": "stream",
          "name": "stdout",
          "text": [
            "Accuracy:  0.9701799485861182\n",
            "Precision:  0.9790356394129979\n",
            "Recall:  0.9609053497942387\n",
            "F1 Score:  0.9698857736240913\n",
            "Classification Report:  \n",
            "               precision    recall  f1-score   support\n",
            "\n",
            "           0       0.96      0.98      0.97       973\n",
            "           1       0.98      0.96      0.97       972\n",
            "\n",
            "    accuracy                           0.97      1945\n",
            "   macro avg       0.97      0.97      0.97      1945\n",
            "weighted avg       0.97      0.97      0.97      1945\n",
            "\n",
            "Confusion Matrix:  \n",
            " [[953  20]\n",
            " [ 38 934]]\n"
          ]
        }
      ]
    },
    {
      "cell_type": "markdown",
      "source": [
        "## Results"
      ],
      "metadata": {
        "id": "Qhs9S-KUo60Q"
      }
    },
    {
      "cell_type": "markdown",
      "source": [
        "## Conclusion"
      ],
      "metadata": {
        "id": "LeZYaaLgo9dA"
      }
    }
  ]
}